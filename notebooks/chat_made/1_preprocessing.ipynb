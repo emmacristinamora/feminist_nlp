{
 "cells": [
  {
   "cell_type": "markdown",
   "metadata": {},
   "source": [
    "# Book Preprocessing and Chunking"
   ]
  },
  {
   "cell_type": "markdown",
   "metadata": {},
   "source": [
    "## 1. Introduction and Preliminary Work"
   ]
  },
  {
   "cell_type": "markdown",
   "metadata": {},
   "source": [
    "This notebook details the first step in our analysis - dataset creation. We decided to collect our own dataset, using the following steps:\n",
    "- Selected books from feminist writers that are publicly available on the Gutenberg library website\n",
    "- Colleted titles, authors, year of release and afferent link in `book_links.csv` (data/)\n",
    "- Extracted each book's content into a text file using `extract_data.py` (src/)\n",
    "- .txt files are saved in (data/raw/), along with `metadata.csv` (data/)\n",
    "\n",
    "These .txt files are not included in our final deliverable, as we included their cleaned version, following after Step 3 in this notebook. All the other mentioned files can be found in the (extra/) folder we sent.\n",
    "\n",
    "Thus, our task is to carefully process the books, removing unnecessary content, normalizing the texts, tokenizing and splitting them into chunks. The final outputs are 2 datasets, `processed_book_chunks.csv` and `processed_book_chunks_context.csv` (data/processed/) which will then be used for our 3-part analysis."
   ]
  },
  {
   "cell_type": "markdown",
   "metadata": {},
   "source": [
    "**Summary of Preprocessing and Chunking:**\n",
    "- We cleaned the text files by removing the standard Guutenberg heather and footer\n",
    "- We normalized line endings and whitespaces\n",
    "- We manually cleaned the text contents that could not be removed in a standard way (data/cleaned/)\n",
    "- We performed chunking with and without context, tokenizing and splitting sections in batches for efficient use\n",
    "- The 2 outputs are dataframes that include text chunk (~500 words), title, author, year of release and chunk ID"
   ]
  },
  {
   "cell_type": "markdown",
   "metadata": {},
   "source": [
    "## 2. Setup and File Paths"
   ]
  },
  {
   "cell_type": "code",
   "execution_count": 4,
   "metadata": {},
   "outputs": [
    {
     "name": "stderr",
     "output_type": "stream",
     "text": [
      "/Users/emmamora/anaconda3/envs/feminist-nlp/lib/python3.10/site-packages/tqdm/auto.py:21: TqdmWarning: IProgress not found. Please update jupyter and ipywidgets. See https://ipywidgets.readthedocs.io/en/stable/user_install.html\n",
      "  from .autonotebook import tqdm as notebook_tqdm\n"
     ]
    }
   ],
   "source": [
    "# standard libraries\n",
    "from pathlib import Path\n",
    "import pandas as pd\n",
    "import spacy\n",
    "import re\n",
    "import shutil\n",
    "import os\n",
    "from tqdm import tqdm\n",
    "\n",
    "# load NLP model (can later be swapped for en_core_web_trf, for now we'll start with this a lighter one)\n",
    "nlp = spacy.load(\"en_core_web_sm\")"
   ]
  },
  {
   "cell_type": "code",
   "execution_count": 5,
   "metadata": {},
   "outputs": [
    {
     "name": "stdout",
     "output_type": "stream",
     "text": [
      "Repository Path: /Users/emmamora/Documents/GitHub/feminist_nlp\n",
      "Raw Data Directory: /Users/emmamora/Documents/GitHub/feminist_nlp/data/raw\n",
      "Processed Book Chunk Output: /Users/emmamora/Documents/GitHub/feminist_nlp/data/processed\n",
      "Metadata CSV: /Users/emmamora/Documents/GitHub/feminist_nlp/data/metadata.csv\n"
     ]
    }
   ],
   "source": [
    "# set base repository path (assumes notebook is in repo/notebooks/)\n",
    "REPO_DIR = Path(\".\").resolve().parents[1]\n",
    "\n",
    "# key data paths\n",
    "RAW_DATA_DIR = REPO_DIR / \"data\" / \"raw\"\n",
    "PROCESSED_DIR = REPO_DIR / \"data\" / \"processed\"\n",
    "BOOK_LINKS_PATH = REPO_DIR / \"data\" / \"book_links.csv\"\n",
    "METADATA_PATH = REPO_DIR / \"data\" / \"metadata.csv\"\n",
    "\n",
    "# confirm setup\n",
    "print(\"Repository Path:\", REPO_DIR)\n",
    "print(\"Raw Data Directory:\", RAW_DATA_DIR)\n",
    "print(\"Processed Book Chunk Output:\", PROCESSED_DIR)\n",
    "print(\"Metadata CSV:\", METADATA_PATH)"
   ]
  },
  {
   "cell_type": "markdown",
   "metadata": {},
   "source": [
    "## 3. Clean Raw Text: Gutenberg Add-ons and Normalize"
   ]
  },
  {
   "cell_type": "markdown",
   "metadata": {},
   "source": [
    "At this stage, we process the raw .txt files to remove boilerplate text added by Project Gutenberg and normalize formatting. The goals are:\n",
    "- Remove standardized headers and footers using regular expressions.\n",
    "- Normalize inconsistent newlines, tabs, and spacing for cleaner input downstream.\n",
    "- Attempt to isolate the actual content of the book, excluding prefaces, introductions, chapter indices, etc.\n",
    "\n",
    "We implemented a `clean_gutenberg_text()` function to handle the standardized parts of the Gutenberg text. It performs:\n",
    "- Header removal using *** START OF THIS PROJECT GUTENBERG EBOOK ... ***\n",
    "- Footer removal using *** END OF THIS PROJECT GUTENBERG EBOOK ... ***\n",
    "- Normalization of line breaks and collapsing of excess whitespace\n",
    "\n",
    "However, this was **not sufficient for all files**:\n",
    "- Many books include content before the actual novel begins (e.g., prefaces, illustrations, chapter listings)\n",
    "- These vary widely across titles and could not be reliably removed with a universal pattern\n",
    "- For example, “Pride and Prejudice” includes a full preface that the regex cannot detect\n",
    "\n",
    "Because of this variability, we decided:\n",
    "- To manually inspect and clean the start of each file\n",
    "- This ensures only the actual narrative content is preserved\n",
    "- Manual cleaning was done on the files saved (data/cleaned/)\n",
    "\n",
    "After this:\n",
    "- We proceed with tokenization and chunking\n",
    "- Further NLP steps such as lemmatization were not applied at this stage to keep text closer to original form\n",
    "\n",
    "The cleaned files will now serve as input for downstream chunking and analysis tasks."
   ]
  },
  {
   "cell_type": "code",
   "execution_count": 4,
   "metadata": {},
   "outputs": [],
   "source": [
    "def clean_gutenberg_text(text: str) -> str:\n",
    "    # remove Gutenberg header\n",
    "    text = re.split(r'\\*\\*\\* START OF (THE|THIS) PROJECT GUTENBERG EBOOK .* \\*\\*\\*', text, flags=re.IGNORECASE)[-1]\n",
    "\n",
    "    # remove Gutenberg footer\n",
    "    text = re.split(r'\\*\\*\\* END OF (THE|THIS) PROJECT GUTENBERG EBOOK .* \\*\\*\\*', text, flags=re.IGNORECASE)[0]\n",
    "\n",
    "    # normalize line endings and whitespace\n",
    "    text = text.replace('\\r\\n', '\\n').replace('\\r', '\\n')          # normalize newlines\n",
    "    text = re.sub(r'\\n{2,}', '\\n\\n', text)                         # collapse multiple empty lines to 2\n",
    "    text = re.sub(r'[ \\t]+', ' ', text)                            # remove multiple spaces/tabs\n",
    "    text = text.strip()                                            # trim leading/trailing whitespace\n",
    "\n",
    "    return text"
   ]
  },
  {
   "cell_type": "code",
   "execution_count": 5,
   "metadata": {},
   "outputs": [
    {
     "name": "stdout",
     "output_type": "stream",
     "text": [
      "Original length: 31602\n",
      "Cleaned length : 31496\n",
      "\n",
      "--- Cleaned Sample ---\n",
      "\n",
      "The Yellow Wallpaper\n",
      "\n",
      "By Charlotte Perkins Gilman\n",
      "\n",
      "It is very seldom that mere ordinary people like John and myself secure\n",
      "ancestral halls for the summer.\n",
      "\n",
      "A colonial mansion, a hereditary estate, I would say a haunted house,\n",
      "and reach the height of romantic felicity—but that would be asking too\n",
      "much of fate!\n",
      "\n",
      "Still I will proudly declare that there is something queer about it.\n",
      "\n",
      "Else, why should it be let so cheaply? And why have stood so long\n",
      "untenanted?\n",
      "\n",
      "John laughs at me, of course, but one expects that in marriage.\n",
      "\n",
      "John is practical in the extreme. He has no patience with faith, an\n",
      "intense horror of superstition, and he scoffs openly at any talk of\n",
      "things not to be felt and seen and put down in figures.\n",
      "\n",
      "John is a physician, and perhaps—(I would not say it to a living soul,\n",
      "of course, but this is dead paper and a great relief to my\n",
      "mind)—perhaps that is one reason I do not get well faster.\n",
      "\n",
      "You see, he does not believe I am sick!\n",
      "\n",
      "And what can one do?\n",
      "\n",
      "If a physician of high stand\n"
     ]
    }
   ],
   "source": [
    "# test file\n",
    "sample_txt_path = RAW_DATA_DIR / \"The_Yellow_Wallpaper.txt\"\n",
    "\n",
    "# load and clean it\n",
    "with open(sample_txt_path, \"r\", encoding=\"utf-8\") as f:\n",
    "    raw_text = f.read()\n",
    "\n",
    "cleaned_text = clean_gutenberg_text(raw_text)\n",
    "\n",
    "# show result\n",
    "print(\"Original length:\", len(raw_text))\n",
    "print(\"Cleaned length :\", len(cleaned_text))\n",
    "print(\"\\n--- Cleaned Sample ---\\n\")\n",
    "print(cleaned_text[:1000])"
   ]
  },
  {
   "cell_type": "code",
   "execution_count": 6,
   "metadata": {},
   "outputs": [
    {
     "name": "stdout",
     "output_type": "stream",
     "text": [
      "Original length: 728842\n",
      "Cleaned length : 721387\n",
      "\n",
      "--- Cleaned Sample ---\n",
      "\n",
      "[Illustration:\n",
      "\n",
      " GEORGE ALLEN\n",
      " PUBLISHER\n",
      "\n",
      " 156 CHARING CROSS ROAD\n",
      " LONDON\n",
      "\n",
      " RUSKIN HOUSE\n",
      " ]\n",
      "\n",
      " [Illustration:\n",
      "\n",
      " _Reading Jane’s Letters._ _Chap 34._\n",
      " ]\n",
      "\n",
      " PRIDE.\n",
      " and\n",
      " PREJUDICE\n",
      "\n",
      " by\n",
      " Jane Austen,\n",
      "\n",
      " with a Preface by\n",
      " George Saintsbury\n",
      " and\n",
      " Illustrations by\n",
      " Hugh Thomson\n",
      "\n",
      " [Illustration: 1894]\n",
      "\n",
      " Ruskin 156. Charing\n",
      " House. Cross Road.\n",
      "\n",
      " London\n",
      " George Allen.\n",
      "\n",
      " CHISWICK PRESS:--CHARLES WHITTINGHAM AND CO.\n",
      " TOOKS COURT, CHANCERY LANE, LONDON.\n",
      "\n",
      " [Illustration:\n",
      "\n",
      " _To J. Comyns Carr\n",
      " in acknowledgment of all I\n",
      " owe to his friendship and\n",
      " advice, these illustrations are\n",
      " gratefully inscribed_\n",
      "\n",
      " _Hugh Thomson_\n",
      " ]\n",
      "\n",
      "PREFACE.\n",
      "\n",
      "[Illustration]\n",
      "\n",
      "_Walt Whitman has somewhere a fine and just distinction between “loving\n",
      "by allowance” and “loving with personal love.” This distinction applies\n",
      "to books as well as to men and women; and in the case of the not very\n",
      "numerous authors who are the objects of the personal affection, it\n",
      "brings a curious consequence with it. There is much more difference as\n",
      "to their\n"
     ]
    }
   ],
   "source": [
    "# test file\n",
    "sample_txt_path = RAW_DATA_DIR / \"Pride_and_Prejudice.txt\"\n",
    "\n",
    "# load and clean it\n",
    "with open(sample_txt_path, \"r\", encoding=\"utf-8\") as f:\n",
    "    raw_text = f.read()\n",
    "\n",
    "cleaned_text = clean_gutenberg_text(raw_text)\n",
    "\n",
    "# show result\n",
    "print(\"Original length:\", len(raw_text))\n",
    "print(\"Cleaned length :\", len(cleaned_text))\n",
    "print(\"\\n--- Cleaned Sample ---\\n\")\n",
    "print(cleaned_text[:1000])"
   ]
  },
  {
   "cell_type": "code",
   "execution_count": 6,
   "metadata": {},
   "outputs": [
    {
     "name": "stdout",
     "output_type": "stream",
     "text": [
      "Cleaned directory: /Users/emmamora/Documents/GitHub/feminist_nlp/data/cleaned\n"
     ]
    }
   ],
   "source": [
    "# create clean directory in data, we will copy-paste the raw data and manually clean it\n",
    "CLEANED_DATA_DIR = REPO_DIR / \"data\" / \"cleaned\"\n",
    "CLEANED_DATA_DIR.mkdir(parents=True, exist_ok=True)\n",
    "print(f\"Cleaned directory: {CLEANED_DATA_DIR}\")"
   ]
  },
  {
   "cell_type": "code",
   "execution_count": 10,
   "metadata": {},
   "outputs": [
    {
     "name": "stdout",
     "output_type": "stream",
     "text": [
      "Cleaned: Herland.txt\n",
      "Cleaned: The_Voyage_Out.txt\n",
      "Cleaned: The_Womans_Bible.txt\n",
      "Cleaned: A_Vindication_of_the_Rights_of_Woman.txt\n",
      "Cleaned: Narrative_of_Sojourner_Truth.txt\n",
      "Cleaned: Woman_in_the_Nineteenth_Century.txt\n",
      "Cleaned: Strife_and_Peace.txt\n",
      "Cleaned: Mrs_Dalloway.txt\n",
      "Cleaned: Wuthering_Heights.txt\n",
      "Cleaned: An_OldFashioned_Girl.txt\n",
      "Cleaned: The_Mill_on_the_Floss.txt\n",
      "Cleaned: The_Yellow_Wallpaper.txt\n",
      "Cleaned: Eighty_Years_and_More.txt\n",
      "Cleaned: Emma.txt\n",
      "Cleaned: Pride_and_Prejudice.txt\n",
      "Cleaned: The_Awakening.txt\n",
      "Cleaned: Little_Women.txt\n",
      "Cleaned: Mary_A_Fiction.txt\n",
      "Cleaned: Middlemarch.txt\n",
      "Cleaned: Bayou_Folk.txt\n",
      "Cleaned: Jane_Eyre.txt\n"
     ]
    }
   ],
   "source": [
    "# loop through each .txt file and clean + save\n",
    "for txt_file in RAW_DATA_DIR.glob(\"*.txt\"):\n",
    "    with open(txt_file, \"r\", encoding=\"utf-8\") as f:\n",
    "        raw_text = f.read()\n",
    "\n",
    "    cleaned_text = clean_gutenberg_text(raw_text)\n",
    "\n",
    "    cleaned_file_path = CLEANED_DATA_DIR / txt_file.name\n",
    "    with open(cleaned_file_path, \"w\", encoding=\"utf-8\") as f:\n",
    "        f.write(cleaned_text)\n",
    "\n",
    "    print(f\"Cleaned: {txt_file.name}\")"
   ]
  },
  {
   "cell_type": "markdown",
   "metadata": {},
   "source": [
    "## 4. Chunking: Process Text into Final Dataset"
   ]
  },
  {
   "cell_type": "markdown",
   "metadata": {},
   "source": [
    "After cleaning, we proceed with tokenizing and chunking each book’s content to prepare for analysis. The goal is to transform long book texts into manageable, context-rich units (~500 words each), while preserving relevant metadata for each chunk.\n",
    "\n",
    "**Steps Overview:**\n",
    "- Load the metadata from metadata.csv and align it with cleaned .txt files\n",
    "- Define functions for sentence tokenization and word-based chunking\n",
    "- Tokenize using spaCy in batches (to efficiently handle large books like Middlemarch)\n",
    "- Generate two datasets:\n",
    "\t- `processed_book_chunks_context.csv`: with overlapping 50-word context between chunks\n",
    "\t- `processed_book_chunks.csv`: without overlap (independent chunks)\n",
    "\t- Store for downstream use in analysis notebooks\n",
    "\n",
    "**Tokenization and Chunking Functions**\n",
    "- `tokenize_sentences()`:\n",
    "\t- Splits the text into paragraphs\n",
    "\t- Uses spaCy’s pipe() method to batch-process and tokenize paragraphs into sentences\n",
    "- `chunk_sentences()`:\n",
    "\t- Groups tokenized sentences into ~500 word chunks\n",
    "\t- Allows optional overlap between chunks to preserve continuity\n",
    "\t- Appends metadata (title, author, year, chunk ID) for each unit\n",
    "\n",
    "**Execution**\n",
    "\n",
    "We ran the pipeline twice:\n",
    "1. With 50-word overlap (`processed_book_chunks_context.csv`): Ensures semantic continuity across adjacent chunks, useful for contextual models.\n",
    "2.\tWithout overlap (`processed_book_chunks.csv`): Ensures strict independence between chunks, useful for classification or indexing tasks.\n",
    "\n",
    "Both versions include:\n",
    "- `chunk`: the raw text of the chunk\n",
    "- `title`: book title\n",
    "- `author`: author name\n",
    "- `year`: publication year\n",
    "- `chunk_id`: a unique identifier formatted as AuthorInitials_ChunkNumber\n",
    "\n",
    "This structure forms the foundation of our subsequent exploratory and modeling notebooks."
   ]
  },
  {
   "cell_type": "code",
   "execution_count": 13,
   "metadata": {},
   "outputs": [
    {
     "name": "stdout",
     "output_type": "stream",
     "text": [
      "Metadata loaded. Example:\n"
     ]
    },
    {
     "data": {
      "text/html": [
       "<div>\n",
       "<style scoped>\n",
       "    .dataframe tbody tr th:only-of-type {\n",
       "        vertical-align: middle;\n",
       "    }\n",
       "\n",
       "    .dataframe tbody tr th {\n",
       "        vertical-align: top;\n",
       "    }\n",
       "\n",
       "    .dataframe thead th {\n",
       "        text-align: right;\n",
       "    }\n",
       "</style>\n",
       "<table border=\"1\" class=\"dataframe\">\n",
       "  <thead>\n",
       "    <tr style=\"text-align: right;\">\n",
       "      <th></th>\n",
       "      <th>id</th>\n",
       "      <th>title</th>\n",
       "      <th>author</th>\n",
       "      <th>year</th>\n",
       "    </tr>\n",
       "    <tr>\n",
       "      <th>filename</th>\n",
       "      <th></th>\n",
       "      <th></th>\n",
       "      <th></th>\n",
       "      <th></th>\n",
       "    </tr>\n",
       "  </thead>\n",
       "  <tbody>\n",
       "    <tr>\n",
       "      <th>Pride_and_Prejudice.txt</th>\n",
       "      <td>Pride_and_Prejudice</td>\n",
       "      <td>Pride and Prejudice</td>\n",
       "      <td>Jane Austen</td>\n",
       "      <td>1813</td>\n",
       "    </tr>\n",
       "    <tr>\n",
       "      <th>Emma.txt</th>\n",
       "      <td>Emma</td>\n",
       "      <td>Emma</td>\n",
       "      <td>Jane Austen</td>\n",
       "      <td>1815</td>\n",
       "    </tr>\n",
       "    <tr>\n",
       "      <th>Jane_Eyre.txt</th>\n",
       "      <td>Jane_Eyre</td>\n",
       "      <td>Jane Eyre</td>\n",
       "      <td>Charlotte Brontë</td>\n",
       "      <td>1847</td>\n",
       "    </tr>\n",
       "    <tr>\n",
       "      <th>Wuthering_Heights.txt</th>\n",
       "      <td>Wuthering_Heights</td>\n",
       "      <td>Wuthering Heights</td>\n",
       "      <td>Emily Brontë</td>\n",
       "      <td>1847</td>\n",
       "    </tr>\n",
       "    <tr>\n",
       "      <th>Middlemarch.txt</th>\n",
       "      <td>Middlemarch</td>\n",
       "      <td>Middlemarch</td>\n",
       "      <td>George Eliot</td>\n",
       "      <td>1871</td>\n",
       "    </tr>\n",
       "  </tbody>\n",
       "</table>\n",
       "</div>"
      ],
      "text/plain": [
       "                                          id                title  \\\n",
       "filename                                                            \n",
       "Pride_and_Prejudice.txt  Pride_and_Prejudice  Pride and Prejudice   \n",
       "Emma.txt                                Emma                 Emma   \n",
       "Jane_Eyre.txt                      Jane_Eyre            Jane Eyre   \n",
       "Wuthering_Heights.txt      Wuthering_Heights    Wuthering Heights   \n",
       "Middlemarch.txt                  Middlemarch          Middlemarch   \n",
       "\n",
       "                                   author  year  \n",
       "filename                                         \n",
       "Pride_and_Prejudice.txt       Jane Austen  1813  \n",
       "Emma.txt                      Jane Austen  1815  \n",
       "Jane_Eyre.txt            Charlotte Brontë  1847  \n",
       "Wuthering_Heights.txt        Emily Brontë  1847  \n",
       "Middlemarch.txt              George Eliot  1871  "
      ]
     },
     "metadata": {},
     "output_type": "display_data"
    }
   ],
   "source": [
    "# set path for final dataset\n",
    "OUTPUT_PATH_CONTEXT = PROCESSED_DIR / \"processed_book_chunks_context.csv\"\n",
    "OUTPUT_PATH_NO_CONTEXT = PROCESSED_DIR / \"processed_book_chunks.csv\"\n",
    "\n",
    "# load metadata\n",
    "metadata = pd.read_csv(METADATA_PATH)\n",
    "metadata.set_index(\"filename\", inplace=True)\n",
    "\n",
    "# checks\n",
    "print(\"Metadata loaded. Example:\")\n",
    "display(metadata.head())"
   ]
  },
  {
   "cell_type": "code",
   "execution_count": 15,
   "metadata": {},
   "outputs": [],
   "source": [
    "# functions for tokenization and chunking\n",
    "\n",
    "def tokenize_sentences(text, batch_size=20, show_progress=False):\n",
    "    # tokenizes text into sentences using spaCy's pipe in batches => prevents memory overload on large books like Middlemarch\n",
    "    paragraphs = [p.strip() for p in text.split(\"\\n\\n\") if p.strip()]\n",
    "    # show progress bar if requested\n",
    "    if show_progress:\n",
    "        paragraphs = tqdm(paragraphs, desc=\"Paragraphs\")\n",
    "    sentences = []\n",
    "    for doc in nlp.pipe(paragraphs, batch_size=batch_size):\n",
    "        sentences.extend([sent.text.strip() for sent in doc.sents if sent.text.strip()])\n",
    "    return sentences\n",
    "\n",
    "def chunk_sentences(sentences, max_words=500, overlap=0, debug=False):\n",
    "    # split list of sentences into word-limited chunks, optionally preserving overlap for context retention\n",
    "    chunks = []\n",
    "    current_chunk = []\n",
    "    current_word_count = 0\n",
    "\n",
    "    for sent in sentences:\n",
    "        words_in_sent = len(sent.split())\n",
    "\n",
    "        # if adding this sentence exceeds max_words, save current chunk\n",
    "        if current_word_count + words_in_sent > max_words:\n",
    "            chunk_text = \" \".join(current_chunk)\n",
    "            chunks.append(chunk_text)\n",
    "\n",
    "            # reset, but include overlap from end of previous chunk\n",
    "            if overlap > 0:\n",
    "                overlap_tokens = \" \".join(current_chunk).split()[-overlap:]\n",
    "                current_chunk = [\" \".join(overlap_tokens)]\n",
    "                current_word_count = len(overlap_tokens)\n",
    "            else:\n",
    "                current_chunk = []\n",
    "                current_word_count = 0\n",
    "\n",
    "        current_chunk.append(sent)\n",
    "        current_word_count += words_in_sent\n",
    "\n",
    "    # add the final chunk\n",
    "    if current_chunk:\n",
    "        chunks.append(\" \".join(current_chunk))\n",
    "\n",
    "    # debug first 3 chunks (optional)\n",
    "    if debug:\n",
    "        for i, chunk in enumerate(chunks[:3]):\n",
    "            print(f\"\\n--- Chunk {i+1} (words: {len(chunk.split())}) ---\\n{chunk[:300]}...\\n\")\n",
    "\n",
    "    return chunks"
   ]
  },
  {
   "cell_type": "code",
   "execution_count": 9,
   "metadata": {},
   "outputs": [
    {
     "name": "stdout",
     "output_type": "stream",
     "text": [
      "Processing Herland.txt...\n",
      "Processing The_Voyage_Out.txt...\n",
      "Processing The_Womans_Bible.txt...\n",
      "Processing A_Vindication_of_the_Rights_of_Woman.txt...\n",
      "Processing Narrative_of_Sojourner_Truth.txt...\n",
      "Processing Woman_in_the_Nineteenth_Century.txt...\n",
      "Processing Strife_and_Peace.txt...\n",
      "Processing Mrs_Dalloway.txt...\n",
      "Processing Wuthering_Heights.txt...\n",
      "Processing An_OldFashioned_Girl.txt...\n",
      "Processing The_Mill_on_the_Floss.txt...\n",
      "Processing The_Yellow_Wallpaper.txt...\n",
      "Processing Eighty_Years_and_More.txt...\n",
      "Processing Emma.txt...\n",
      "Processing Pride_and_Prejudice.txt...\n",
      "Processing The_Awakening.txt...\n",
      "Processing Little_Women.txt...\n",
      "Processing Mary_A_Fiction.txt...\n",
      "Processing Middlemarch.txt...\n",
      "Processing Bayou_Folk.txt...\n",
      "Processing Jane_Eyre.txt...\n"
     ]
    }
   ],
   "source": [
    "for book_file in CLEANED_DATA_DIR.glob(\"*.txt\"):\n",
    "    book_name = book_file.name\n",
    "    print(f\"Processing {book_name}...\") \n"
   ]
  },
  {
   "cell_type": "code",
   "execution_count": 11,
   "metadata": {},
   "outputs": [
    {
     "name": "stderr",
     "output_type": "stream",
     "text": [
      "Processing books:   5%|▍         | 1/21 [00:06<02:13,  6.68s/it]"
     ]
    },
    {
     "name": "stdout",
     "output_type": "stream",
     "text": [
      "\n",
      "--- Chunk 1 (words: 466) ---\n",
      "CHAPTER 1.\n",
      "A Not Unnatural Enterprise This is written from memory, unfortunately. If I could have brought with\n",
      "me the material I so carefully prepared, this would be a very different\n",
      "story. Whole books full of notes, carefully copied records, firsthand\n",
      "descriptions, and the pictures--that’s the wors...\n",
      "\n",
      "\n",
      "--- Chunk 2 (words: 499) ---\n",
      "few things that don’t. We three had a chance to join a big scientific expedition. They needed a doctor, and that gave Jeff an excuse for dropping his just opening practice; they needed Terry’s experience, his machine, and his money; and as for me, I got in through Terry’s influence. The expedition w...\n",
      "\n",
      "\n",
      "--- Chunk 3 (words: 499) ---\n",
      "I had understood, so I showed him a red and blue pencil I carried, and asked again. Yes, he pointed to the river, and then to the southwestward. “River--good water--red and blue.” Terry was close by and interested in the fellow’s pointing. “What does he say, Van?” I told him. Terry blazed up at once...\n",
      "\n"
     ]
    },
    {
     "name": "stderr",
     "output_type": "stream",
     "text": [
      "Processing books:  10%|▉         | 2/21 [00:23<04:03, 12.81s/it]"
     ]
    },
    {
     "name": "stdout",
     "output_type": "stream",
     "text": [
      "\n",
      "--- Chunk 1 (words: 475) ---\n",
      "CHAPTER I As the streets that lead from the Strand to the Embankment are very\n",
      "narrow, it is better not to walk down them arm-in-arm. If you persist,\n",
      "lawyers’ clerks will have to make flying leaps into the mud; young lady\n",
      "typists will have to fidget behind you. In the streets of London where\n",
      "beauty g...\n",
      "\n",
      "\n",
      "--- Chunk 2 (words: 482) ---\n",
      "case they should proceed to tease his wife, Mr. Ambrose flourished his stick at them, upon which they decided that he was grotesque merely, and four instead of one cried “Bluebeard!” in chorus. Although Mrs. Ambrose stood quite still, much longer than is natural, the little boys let her be. Some one...\n",
      "\n",
      "\n",
      "--- Chunk 3 (words: 447) ---\n",
      "already occupied by two city men. The fixity of her mood was broken by the action of walking. The shooting motor cars, more like spiders in the moon than terrestrial objects, the thundering drays, the jingling hansoms, and little black broughams, made her think of the world she lived in. Somewhere u...\n",
      "\n"
     ]
    },
    {
     "name": "stderr",
     "output_type": "stream",
     "text": [
      "Processing books:  14%|█▍        | 3/21 [00:39<04:16, 14.26s/it]"
     ]
    },
    {
     "name": "stdout",
     "output_type": "stream",
     "text": [
      "\n",
      "--- Chunk 1 (words: 494) ---\n",
      "PART I. Comments on Genesis, Exodus, Leviticus, Numbers and Deuteronomy. \"In every soul there is bound up some truth and some error, and each\n",
      "gives to the world of thought what no other one possesses.\"--Cousin. 1898. By Elizabeth Cady Stanton REVISING COMMITTEE. \"We took sweet counsel together. \"--P...\n",
      "\n",
      "\n",
      "--- Chunk 2 (words: 498) ---\n",
      "the work of the various committees into one consistent whole. IV. The completed work will be submitted to an advisory committee assembled at some central point, as London, New York, or Chicago, to sit in final judgment on \"The Woman's Bible.\" As to the manner of doing the practical work: Those who h...\n",
      "\n",
      "\n",
      "--- Chunk 3 (words: 472) ---\n",
      "transfigure this mournful object of pity into an exalted, dignified personage, worthy our worship as the mother of the race, are to be congratulated as having a share of the occult mystic power of the eastern Mahatmas. The plain English to the ordinary mind admits of no such liberal interpretation. ...\n",
      "\n"
     ]
    },
    {
     "name": "stderr",
     "output_type": "stream",
     "text": [
      "Processing books:  19%|█▉        | 4/21 [00:49<03:28, 12.29s/it]"
     ]
    },
    {
     "name": "stdout",
     "output_type": "stream",
     "text": [
      "\n",
      "--- Chunk 1 (words: 487) ---\n",
      "INTRODUCTION. After considering the historic page, and viewing the living world\n",
      "with anxious solicitude, the most melancholy emotions of sorrowful\n",
      "indignation have depressed my spirits, and I have sighed when\n",
      "obliged to confess, that either nature has made a great difference\n",
      "between man and man, or ...\n",
      "\n",
      "\n",
      "--- Chunk 2 (words: 477) ---\n",
      "way, and I cannot pass it over without subjecting the main tendency of my reasoning to misconstruction, I shall stop a moment to deliver, in a few words, my opinion. In the government of the physical world, it is observable that the female, in general, is inferior to the male. The male pursues, the ...\n",
      "\n",
      "\n",
      "--- Chunk 3 (words: 495) ---\n",
      "spread corruption through the whole mass of society! As a class of mankind they have the strongest claim to pity! the education of the rich tends to render them vain and helpless, and the unfolding mind is not strengthened by the practice of those duties which dignify the human character. They only ...\n",
      "\n"
     ]
    },
    {
     "name": "stderr",
     "output_type": "stream",
     "text": [
      "Processing books:  24%|██▍       | 5/21 [00:53<02:30,  9.41s/it]"
     ]
    },
    {
     "name": "stdout",
     "output_type": "stream",
     "text": [
      "\n",
      "--- Chunk 1 (words: 441) ---\n",
      "HER BIRTH AND PARENTAGE. THE subject of this biography, SOJOURNER TRUTH, as she now calls\n",
      "herself-but whose name, originally, was Isabella-was born, as near as\n",
      "she can now calculate, between the years 1797 and 1800. She was the\n",
      "daughter of James and Betsey, slaves of one Colonel Ardinburgh, Hurley,\n",
      "...\n",
      "\n",
      "\n",
      "--- Chunk 2 (words: 488) ---\n",
      "cellar, and sees its inmates, of both sexes and all ages, sleeping on those damp boards, like the horse, with a little straw and a blanket; and she wonders not at the rheumatisms, and fever-sores, and palsies, that distorted the limbs and racked the bodies of those fellow-slaves in after-life. Still...\n",
      "\n",
      "\n",
      "--- Chunk 3 (words: 485) ---\n",
      "so near at hand, but of which his parents had an uncertain, but all the more cruel foreboding. There was snow on the ground, at the time of which we are speaking; and a large old-fashioned sleigh was seen to drive up to the door of the late Col. Ardinburgh. This event was noticed with childish pleas...\n",
      "\n"
     ]
    },
    {
     "name": "stderr",
     "output_type": "stream",
     "text": [
      "Processing books:  29%|██▊       | 6/21 [01:06<02:39, 10.62s/it]"
     ]
    },
    {
     "name": "stdout",
     "output_type": "stream",
     "text": [
      "\n",
      "--- Chunk 1 (words: 492) ---\n",
      "INTRODUCTION. * * * * * The problem of Woman's position, or \"sphere,\"--of her duties,\n",
      "responsibilities, rights and immunities as Woman,--fitly attracts a\n",
      "large and still-increasing measure of attention from the thinkers and\n",
      "agitators of our time, The legislators, so called,--those who\n",
      "ultimately ena...\n",
      "\n",
      "\n",
      "--- Chunk 2 (words: 445) ---\n",
      "which springs from the ripening of profound reflection into assured conviction. She wrote as one who had observed, and who deeply felt what she deliberately uttered. Others have since spoken more fluently, more variously, with a greater affluence of illustration; but none, it is believed, more earne...\n",
      "\n",
      "\n",
      "--- Chunk 3 (words: 474) ---\n",
      "preferred, partly for the reason others do not like it,--that is, that it requires some thought to see what it means, and might thus prepare the reader to meet me on my own ground. Besides, it offers a larger scope, and is, in that way, more just to my desire. I meant by that\n",
      "title to intimate the f...\n",
      "\n"
     ]
    },
    {
     "name": "stderr",
     "output_type": "stream",
     "text": [
      "Processing books:  33%|███▎      | 7/21 [01:12<02:08,  9.17s/it]"
     ]
    },
    {
     "name": "stdout",
     "output_type": "stream",
     "text": [
      "\n",
      "--- Chunk 1 (words: 500) ---\n",
      "OLD NORWAY. Still the old tempests rage around the mountains,\n",
      " And ocean's billows as of old appear;\n",
      " The roaring wood and the resounding fountains\n",
      " Time has not silenced in his long career,\n",
      " For Nature is the same as ever. MUNCH. The shadow of God wanders through Nature. LINNÆUS. Before yet a song ...\n",
      "\n",
      "\n",
      "--- Chunk 2 (words: 481) ---\n",
      "to the fresh mighty throbbing of the heart of nature; alone with the quiet, calm, and yet so eloquent, objects of nature, and there wilt thou gain strength and life! There falls no dust. Fresh and clear stand the thoughts of life there, as in the days of their creation. \"Wilt thou behold the great a...\n",
      "\n",
      "\n",
      "--- Chunk 3 (words: 496) ---\n",
      "down upon a younger generation; observe in these valleys the morning and evening play of colours upon the heights, in the depths; see the affluent pomp of the storm; see the calm magnificence of the rainbow, as it vaults itself over the waterfall,--depressed spirit, see this, understand it, and---- ...\n",
      "\n"
     ]
    },
    {
     "name": "stderr",
     "output_type": "stream",
     "text": [
      "Processing books:  38%|███▊      | 8/21 [01:20<01:53,  8.73s/it]"
     ]
    },
    {
     "name": "stdout",
     "output_type": "stream",
     "text": [
      "\n",
      "--- Chunk 1 (words: 469) ---\n",
      "Mrs. Dalloway said she would buy the flowers herself. For Lucy had her work cut out for her. The doors would be taken off\n",
      "their hinges; Rumpelmayer’s men were coming. And then, thought Clarissa\n",
      "Dalloway, what a morning--fresh as if issued to children on a beach. What a lark! What a plunge! For so it...\n",
      "\n",
      "\n",
      "--- Chunk 2 (words: 500) ---\n",
      "making it up, building it round one, tumbling it, creating it every moment afresh; but the veriest frumps, the most dejected of miseries sitting on doorsteps (drink their downfall) do the same; can’t be dealt with, she felt positive, by Acts of Parliament for that very reason: they love life. In peo...\n",
      "\n",
      "\n",
      "--- Chunk 3 (words: 461) ---\n",
      "as children. “Where are you off to?” “I love walking in London,” said Mrs. Dalloway. “Really it’s better than walking in the country.” They had just come up--unfortunately--to see doctors. Other people came to see pictures; go to the opera; take their daughters out; the Whitbreads came “to see docto...\n",
      "\n"
     ]
    },
    {
     "name": "stderr",
     "output_type": "stream",
     "text": [
      "Processing books:  43%|████▎     | 9/21 [01:34<02:06, 10.55s/it]"
     ]
    },
    {
     "name": "stdout",
     "output_type": "stream",
     "text": [
      "\n",
      "--- Chunk 1 (words: 481) ---\n",
      "CHAPTER I 1801—I have just returned from a visit to my landlord—the solitary\n",
      "neighbour that I shall be troubled with. This is certainly a beautiful\n",
      "country! In all England, I do not believe that I could have fixed on a\n",
      "situation so completely removed from the stir of society. A perfect\n",
      "misanthropist...\n",
      "\n",
      "\n",
      "--- Chunk 2 (words: 485) ---\n",
      "times, indeed: one may guess the power of the north wind, blowing over the edge, by the excessive slant of a few stunted firs at the end of the house; and by a range of gaunt thorns all stretching their limbs one way, as if craving alms of the sun. Happily, the architect had foresight to build\n",
      "it st...\n",
      "\n",
      "\n",
      "--- Chunk 3 (words: 479) ---\n",
      "arm-chair, his mug of ale frothing on the round table before him, is to be seen in any circuit of five or six miles among these hills, if you go at the right time after dinner. But Mr. Heathcliff forms a singular contrast to his abode and style of living. He is a dark-skinned gipsy in aspect, in dre...\n",
      "\n"
     ]
    },
    {
     "name": "stderr",
     "output_type": "stream",
     "text": [
      "Processing books:  48%|████▊     | 10/21 [01:47<02:03, 11.20s/it]"
     ]
    },
    {
     "name": "stdout",
     "output_type": "stream",
     "text": [
      "\n",
      "--- Chunk 1 (words: 475) ---\n",
      "CHAPTER I. POLLY ARRIVES “IT'S time to go to the station, Tom.” “Come on, then.” “Oh, I'm not going; it's too wet. Should n't have a crimp left if I\n",
      "went out such a day as this; and I want to look nice when Polly comes.” “You don't expect me to go and bring home a strange girl alone, do you?”\n",
      " And T...\n",
      "\n",
      "\n",
      "--- Chunk 2 (words: 474) ---\n",
      "fellows” know too well. “Do go along, or you'll be too late; and then, what will Polly think of me?” cried Fanny, with the impatient poke which is peculiarly aggravating to masculine dignity. “She'll think you cared more about your frizzles than your friends, and she'll be about right, too.” Feeling...\n",
      "\n",
      "\n",
      "--- Chunk 3 (words: 495) ---\n",
      "behind him made him turn in time to see a fresh-faced little girl running down the long station, and looking as if she rather liked it. As she smiled, and waved her bag at him, he stopped and waited for her, saying to himself, “Hullo! I wonder if that's Polly?” Up came the little girl, with her hand...\n",
      "\n"
     ]
    },
    {
     "name": "stderr",
     "output_type": "stream",
     "text": [
      "Processing books:  52%|█████▏    | 11/21 [02:12<02:34, 15.50s/it]"
     ]
    },
    {
     "name": "stdout",
     "output_type": "stream",
     "text": [
      "\n",
      "--- Chunk 1 (words: 488) ---\n",
      "BOOK FIRST BOY AND GIRL. Chapter I. Outside Dorlcote Mill A wide plain, where the broadening Floss hurries on between its green\n",
      "banks to the sea, and the loving tide, rushing to meet it, checks its\n",
      "passage with an impetuous embrace. On this mighty tide the black\n",
      "ships—laden with the fresh-scented fi...\n",
      "\n",
      "\n",
      "--- Chunk 2 (words: 489) ---\n",
      "the booming of the mill bring a dreamy deafness, which seems to heighten the peacefulness of the scene. They are like a great curtain of sound, shutting one out from the world beyond. And now there is the thunder of the huge covered wagon coming home with sacks of grain. That honest wagoner is think...\n",
      "\n",
      "\n",
      "--- Chunk 3 (words: 483) ---\n",
      "in the left-hand parlour, on that very afternoon I have been dreaming of. Chapter II. Mr Tulliver, of Dorlcote Mill, Declares His Resolution about Tom “What I want, you know,” said Mr Tulliver,—“what I want is to give Tom a good eddication; an eddication as’ll be a bread to him. That was what\n",
      "I was ...\n",
      "\n"
     ]
    },
    {
     "name": "stderr",
     "output_type": "stream",
     "text": [
      "Processing books:  57%|█████▋    | 12/21 [02:13<01:39, 11.01s/it]"
     ]
    },
    {
     "name": "stdout",
     "output_type": "stream",
     "text": [
      "\n",
      "--- Chunk 1 (words: 489) ---\n",
      "It is very seldom that mere ordinary people like John and myself secure\n",
      "ancestral halls for the summer. A colonial mansion, a hereditary estate, I would say a haunted house,\n",
      "and reach the height of romantic felicity—but that would be asking too\n",
      "much of fate! Still I will proudly declare that there i...\n",
      "\n",
      "\n",
      "--- Chunk 2 (words: 496) ---\n",
      "were greenhouses, too, but they are all broken now. There was some legal trouble, I believe, something about the heirs and co-heirs; anyhow, the place has been empty for years. That spoils my ghostliness, I am afraid; but I don’t care—there is something strange about the house—I can feel it. I even ...\n",
      "\n",
      "\n",
      "--- Chunk 3 (words: 489) ---\n",
      "is repellant, almost revolting; a smouldering, unclean yellow, strangely faded by the slow-turning sunlight. It is a dull yet lurid orange in some places, a sickly sulphur tint in others. No wonder the children hated it! I should hate it myself if I had to live in this room long. There comes John, a...\n",
      "\n"
     ]
    },
    {
     "name": "stderr",
     "output_type": "stream",
     "text": [
      "Processing books:  62%|██████▏   | 13/21 [02:28<01:38, 12.35s/it]"
     ]
    },
    {
     "name": "stdout",
     "output_type": "stream",
     "text": [
      "\n",
      "--- Chunk 1 (words: 485) ---\n",
      "CHAPTER I. CHILDHOOD. The psychical growth of a child is not influenced by days and years, but\n",
      "by the impressions passing events make on its mind. What may prove a\n",
      "sudden awakening to one, giving an impulse in a certain direction that\n",
      "may last for years, may make no impression on another. People won...\n",
      "\n",
      "\n",
      "--- Chunk 2 (words: 493) ---\n",
      "New York, was elected to Congress. Perhaps the excitement of a political campaign, in which my mother took the deepest interest, may have had an influence on my prenatal life and given me the strong desire that I have always felt to participate in the rights and duties of government. My father was a...\n",
      "\n",
      "\n",
      "--- Chunk 3 (words: 495) ---\n",
      "the reader will see that, under such conditions, nothing but strong self-will and a good share of hope and mirthfulness could have saved an ordinary child from becoming a mere nullity. The first event engraved on my memory was the birth of a sister when I was four years old. It was a cold morning in...\n",
      "\n"
     ]
    },
    {
     "name": "stderr",
     "output_type": "stream",
     "text": [
      "Processing books:  67%|██████▋   | 14/21 [02:47<01:40, 14.38s/it]"
     ]
    },
    {
     "name": "stdout",
     "output_type": "stream",
     "text": [
      "\n",
      "--- Chunk 1 (words: 487) ---\n",
      "VOLUME I CHAPTER I Emma Woodhouse, handsome, clever, and rich, with a comfortable home and\n",
      "happy disposition, seemed to unite some of the best blessings of\n",
      "existence; and had lived nearly twenty-one years in the world with very\n",
      "little to distress or vex her. She was the youngest of the two daughters...\n",
      "\n",
      "\n",
      "--- Chunk 2 (words: 484) ---\n",
      "of every day. She recalled her past kindness—the kindness, the affection of sixteen years—how she had taught and how she had played with her from five years old—how she had devoted all her powers to attach and amuse her in health—and how nursed her through the various illnesses of childhood. A large...\n",
      "\n",
      "\n",
      "--- Chunk 3 (words: 498) ---\n",
      "one among them who could be accepted in lieu of Miss Taylor for even half a day. It was a melancholy change; and Emma could not but sigh over it, and wish for impossible things, till her father awoke, and made it necessary to be cheerful. His spirits required support. He\n",
      "was a nervous man, easily de...\n",
      "\n"
     ]
    },
    {
     "name": "stderr",
     "output_type": "stream",
     "text": [
      "Processing books:  71%|███████▏  | 15/21 [03:03<01:27, 14.59s/it]"
     ]
    },
    {
     "name": "stdout",
     "output_type": "stream",
     "text": [
      "\n",
      "--- Chunk 1 (words: 497) ---\n",
      "Chapter I. It is a truth universally acknowledged, that a single man in possession\n",
      "of a good fortune must be in want of a wife. However little known the feelings or views of such a man may be on his\n",
      "first entering a neighbourhood, this truth is so well fixed in the minds\n",
      "of the surrounding families,...\n",
      "\n",
      "\n",
      "--- Chunk 2 (words: 498) ---\n",
      "not often much beauty to think of.” “But, my dear, you must indeed go and see Mr. Bingley when he comes into the neighbourhood.” “It is more than I engage for, I assure you.” “But consider your daughters. Only think what an establishment it would be for one of them. Sir William and Lady Lucas are de...\n",
      "\n",
      "\n",
      "--- Chunk 3 (words: 500) ---\n",
      "of those who waited on Mr. Bingley. He had always intended to visit him, though to the last always assuring his wife that he should not go; and till the evening after the visit was paid she had no knowledge of it. It was then disclosed in the following manner. Observing his second daughter employed ...\n",
      "\n"
     ]
    },
    {
     "name": "stderr",
     "output_type": "stream",
     "text": [
      "Processing books:  76%|███████▌  | 16/21 [03:10<01:02, 12.59s/it]"
     ]
    },
    {
     "name": "stdout",
     "output_type": "stream",
     "text": [
      "\n",
      "--- Chunk 1 (words: 483) ---\n",
      "I A green and yellow parrot, which hung in a cage outside the door, kept\n",
      "repeating over and over: “_Allez vous-en! Allez vous-en! Sapristi!_ That’s all right!” He could speak a little Spanish, and also a language which nobody\n",
      "understood, unless it was the mocking-bird that hung on the other side\n",
      "of ...\n",
      "\n",
      "\n",
      "--- Chunk 2 (words: 497) ---\n",
      "persons of the _pension_ had gone over to the _Chênière Caminada_ in Beaudelet’s lugger to hear mass. Some young people were out under the water-oaks playing croquet. Mr. Pontellier’s two children were there—sturdy little fellows of four and five. A quadroon nurse followed them about with a faraway,...\n",
      "\n",
      "\n",
      "--- Chunk 3 (words: 500) ---\n",
      "holding it out to him. He accepted the sunshade, and lifting it over his head descended the steps and walked away. “Coming back to dinner?” his wife called after him. He halted a moment and shrugged his shoulders. He felt in his vest pocket; there was a ten-dollar bill there. He did not know; perhap...\n",
      "\n"
     ]
    },
    {
     "name": "stderr",
     "output_type": "stream",
     "text": [
      "Processing books:  81%|████████  | 17/21 [03:34<01:02, 15.75s/it]"
     ]
    },
    {
     "name": "stdout",
     "output_type": "stream",
     "text": [
      "\n",
      "--- Chunk 1 (words: 500) ---\n",
      "PART 1 CHAPTER ONE\n",
      "PLAYING PILGRIMS “Christmas won’t be Christmas without any presents,” grumbled Jo, lying\n",
      "on the rug. “It’s so dreadful to be poor!” sighed Meg, looking down at her old\n",
      "dress. “I don’t think it’s fair for some girls to have plenty of pretty\n",
      "things, and other girls nothing at all,” ...\n",
      "\n",
      "\n",
      "--- Chunk 2 (words: 498) ---\n",
      "but I do think washing dishes and keeping things tidy is the worst work in the world. It makes me cross, and my hands get so stiff, I can’t practice well at all.” And Beth looked at her rough hands with a sigh that any one could hear that time. “I don’t believe any of you suffer as I do,” cried Amy,...\n",
      "\n",
      "\n",
      "--- Chunk 3 (words: 477) ---\n",
      "look as prim as a China Aster! It’s bad enough to be a girl, anyway, when I like boy’s games and work and manners! I can’t get over my disappointment in not being a boy. And it’s worse than ever now, for I’m dying to go and fight with Papa. And\n",
      "I can only stay home and knit, like a poky old woman!” ...\n",
      "\n"
     ]
    },
    {
     "name": "stderr",
     "output_type": "stream",
     "text": [
      "Processing books:  86%|████████▌ | 18/21 [03:36<00:35, 11.88s/it]"
     ]
    },
    {
     "name": "stdout",
     "output_type": "stream",
     "text": [
      "\n",
      "--- Chunk 1 (words: 452) ---\n",
      "MARY CHAP. I. Mary, the heroine of this fiction, was the daughter of Edward, who\n",
      "married Eliza, a gentle, fashionable girl, with a kind of indolence in\n",
      "her temper, which might be termed negative good-nature: her virtues,\n",
      "indeed, were all of that stamp. She carefully attended to the _shews_ of\n",
      "things...\n",
      "\n",
      "\n",
      "--- Chunk 2 (words: 477) ---\n",
      "called _hell_, the regions below; but whether her's was a mounting spirit, I cannot pretend to determine; or what sort of a planet would have been proper for her, when she left her _material_ part in this world, let metaphysicians settle; I have nothing to say to her unclothed spirit. As she was som...\n",
      "\n",
      "\n",
      "--- Chunk 3 (words: 497) ---\n",
      "that kind of _attendrissement_ which makes a person take pleasure in providing for the subsistence and comfort of a living creature; but it proceeded from vanity, it gave her an opportunity of lisping out the prettiest French expressions of ecstatic fondness, in accents that had never been attuned b...\n",
      "\n"
     ]
    },
    {
     "name": "stderr",
     "output_type": "stream",
     "text": [
      "Processing books:  90%|█████████ | 19/21 [04:14<00:39, 19.70s/it]"
     ]
    },
    {
     "name": "stdout",
     "output_type": "stream",
     "text": [
      "\n",
      "--- Chunk 1 (words: 494) ---\n",
      "PRELUDE. Who that cares much to know the history of man, and how the mysterious\n",
      "mixture behaves under the varying experiments of Time, has not dwelt,\n",
      "at least briefly, on the life of Saint Theresa, has not smiled with\n",
      "some gentleness at the thought of the little girl walking forth one\n",
      "morning hand-i...\n",
      "\n",
      "\n",
      "--- Chunk 2 (words: 491) ---\n",
      "the living stream in fellowship with its own oary-footed kind. Here and there is born a Saint Theresa, foundress of nothing, whose loving heart-beats and sobs after an unattained goodness tremble off and are dispersed among hindrances, instead of centring in some long-recognizable deed. BOOK I. MISS...\n",
      "\n",
      "\n",
      "--- Chunk 3 (words: 500) ---\n",
      "by heart; and to her the destinies of mankind, seen by the light of Christianity, made the solicitudes of feminine fashion appear an occupation for Bedlam. She could not reconcile the anxieties of a spiritual life involving eternal consequences, with a keen interest in gimp and artificial protrusion...\n",
      "\n"
     ]
    },
    {
     "name": "stderr",
     "output_type": "stream",
     "text": [
      "Processing books:  95%|█████████▌| 20/21 [04:22<00:16, 16.01s/it]"
     ]
    },
    {
     "name": "stdout",
     "output_type": "stream",
     "text": [
      "\n",
      "--- Chunk 1 (words: 476) ---\n",
      "A NO-ACCOUNT CREOLE I. One agreeable afternoon in late autumn two young men stood together on\n",
      "Canal Street, closing a conversation that had evidently begun within\n",
      "the club-house which they had just quitted. \"There's big money in it, Offdean,\" said the elder of the two. \"I would\n",
      "n't have you touch it...\n",
      "\n",
      "\n",
      "--- Chunk 2 (words: 488) ---\n",
      "business man may be said alternately to exist, and which reduce him, naturally, to a rather ragged condition of soul. Offdean had done, in a temperate way, the usual things which young men do who happen to belong to good society, and are possessed of moderate means and healthy instincts. He had gone...\n",
      "\n",
      "\n",
      "--- Chunk 3 (words: 500) ---\n",
      "in a slovenly fashion, but so rich that cotton and corn and weed and \"cocoa-grass\" grew rampant if they had only the semblance of a chance. The negro quarters were at the far end of this open stretch, and consisted of a long row of old and very crippled cabins. Directly back of these a dense wood gr...\n",
      "\n"
     ]
    },
    {
     "name": "stderr",
     "output_type": "stream",
     "text": [
      "Processing books: 100%|██████████| 21/21 [04:45<00:00, 13.60s/it]"
     ]
    },
    {
     "name": "stdout",
     "output_type": "stream",
     "text": [
      "\n",
      "--- Chunk 1 (words: 498) ---\n",
      "CHAPTER I There was no possibility of taking a walk that day. We had been\n",
      "wandering, indeed, in the leafless shrubbery an hour in the morning;\n",
      "but since dinner (Mrs. Reed, when there was no company, dined early)\n",
      "the cold winter wind had brought with it clouds so sombre, and a rain\n",
      "so penetrating, th...\n",
      "\n",
      "\n",
      "--- Chunk 2 (words: 487) ---\n",
      "I was, I could not pass quite as a blank. They were those which treat of the haunts of sea-fowl; of “the solitary rocks and promontories” by them only inhabited; of the coast of Norway, studded with isles from its southern extremity, the Lindeness, or Naze, to the North Cape— “Where the Northern Oce...\n",
      "\n",
      "\n",
      "--- Chunk 3 (words: 450) ---\n",
      "soon. The breakfast-room door opened. “Boh! Madam Mope!” cried the voice of John Reed; then he paused: he found the room apparently empty. “Where the dickens is she!” he continued. “Lizzy! Georgy! (calling to his sisters) Joan is not here: tell mama she is run out into the rain—bad animal!” “It is w...\n",
      "\n",
      "Finished processing: 5407 total chunks from 21 books.\n"
     ]
    },
    {
     "name": "stderr",
     "output_type": "stream",
     "text": [
      "\n"
     ]
    }
   ],
   "source": [
    "# process all cleaned books => CONTEXT CHUNKS\n",
    "all_chunk_data = []\n",
    "\n",
    "book_files = list(CLEANED_DATA_DIR.glob(\"*.txt\"))\n",
    "\n",
    "for book_file in tqdm(book_files, desc=\"Processing books\"):\n",
    "    book_name = book_file.name\n",
    "    if book_name not in metadata.index:\n",
    "        print(f\"Skipping {book_name} (no metadata)\")\n",
    "        continue\n",
    "\n",
    "    with open(book_file, \"r\", encoding=\"utf-8\") as f:\n",
    "        text = f.read()\n",
    "\n",
    "    # tokenize\n",
    "    sentences = tokenize_sentences(text, show_progress=False)\n",
    "\n",
    "    # chunk\n",
    "    chunks = chunk_sentences(sentences, overlap=50, debug=True)\n",
    "\n",
    "    # metadata\n",
    "    meta = metadata.loc[book_name]\n",
    "    title, author, year = meta[\"title\"], meta[\"author\"], meta[\"year\"]\n",
    "    author_code = \"\".join([w[0].upper() for w in author.split()[:2]])\n",
    "\n",
    "    # collect chunks\n",
    "    for i, chunk in enumerate(chunks):\n",
    "        chunk_id = f\"{author_code}_{i+1:03d}\"\n",
    "        all_chunk_data.append({\n",
    "            \"chunk\": chunk,\n",
    "            \"title\": title,\n",
    "            \"author\": author,\n",
    "            \"year\": year,\n",
    "            \"chunk_id\": chunk_id\n",
    "        })\n",
    "\n",
    "print(f\"Finished processing: {len(all_chunk_data)} total chunks from {len(book_files)} books.\")"
   ]
  },
  {
   "cell_type": "code",
   "execution_count": 12,
   "metadata": {},
   "outputs": [
    {
     "name": "stdout",
     "output_type": "stream",
     "text": [
      "Final dataset saved to: /Users/emmamora/Documents/GitHub/feminist_nlp/data/processed/processed_book_chunks.csv\n"
     ]
    },
    {
     "data": {
      "text/html": [
       "<div>\n",
       "<style scoped>\n",
       "    .dataframe tbody tr th:only-of-type {\n",
       "        vertical-align: middle;\n",
       "    }\n",
       "\n",
       "    .dataframe tbody tr th {\n",
       "        vertical-align: top;\n",
       "    }\n",
       "\n",
       "    .dataframe thead th {\n",
       "        text-align: right;\n",
       "    }\n",
       "</style>\n",
       "<table border=\"1\" class=\"dataframe\">\n",
       "  <thead>\n",
       "    <tr style=\"text-align: right;\">\n",
       "      <th></th>\n",
       "      <th>chunk</th>\n",
       "      <th>title</th>\n",
       "      <th>author</th>\n",
       "      <th>year</th>\n",
       "      <th>chunk_id</th>\n",
       "    </tr>\n",
       "  </thead>\n",
       "  <tbody>\n",
       "    <tr>\n",
       "      <th>0</th>\n",
       "      <td>CHAPTER 1.\\nA Not Unnatural Enterprise This is...</td>\n",
       "      <td>Herland</td>\n",
       "      <td>Charlotte Perkins Gilman</td>\n",
       "      <td>1915</td>\n",
       "      <td>CP_001</td>\n",
       "    </tr>\n",
       "    <tr>\n",
       "      <th>1</th>\n",
       "      <td>few things that don’t. We three had a chance t...</td>\n",
       "      <td>Herland</td>\n",
       "      <td>Charlotte Perkins Gilman</td>\n",
       "      <td>1915</td>\n",
       "      <td>CP_002</td>\n",
       "    </tr>\n",
       "    <tr>\n",
       "      <th>2</th>\n",
       "      <td>I had understood, so I showed him a red and bl...</td>\n",
       "      <td>Herland</td>\n",
       "      <td>Charlotte Perkins Gilman</td>\n",
       "      <td>1915</td>\n",
       "      <td>CP_003</td>\n",
       "    </tr>\n",
       "    <tr>\n",
       "      <th>3</th>\n",
       "      <td>glass and squatted down to investigate. “Chemi...</td>\n",
       "      <td>Herland</td>\n",
       "      <td>Charlotte Perkins Gilman</td>\n",
       "      <td>1915</td>\n",
       "      <td>CP_004</td>\n",
       "    </tr>\n",
       "    <tr>\n",
       "      <th>4</th>\n",
       "      <td>a dozen Montenegroes up and down these great r...</td>\n",
       "      <td>Herland</td>\n",
       "      <td>Charlotte Perkins Gilman</td>\n",
       "      <td>1915</td>\n",
       "      <td>CP_005</td>\n",
       "    </tr>\n",
       "  </tbody>\n",
       "</table>\n",
       "</div>"
      ],
      "text/plain": [
       "                                               chunk    title  \\\n",
       "0  CHAPTER 1.\\nA Not Unnatural Enterprise This is...  Herland   \n",
       "1  few things that don’t. We three had a chance t...  Herland   \n",
       "2  I had understood, so I showed him a red and bl...  Herland   \n",
       "3  glass and squatted down to investigate. “Chemi...  Herland   \n",
       "4  a dozen Montenegroes up and down these great r...  Herland   \n",
       "\n",
       "                     author  year chunk_id  \n",
       "0  Charlotte Perkins Gilman  1915   CP_001  \n",
       "1  Charlotte Perkins Gilman  1915   CP_002  \n",
       "2  Charlotte Perkins Gilman  1915   CP_003  \n",
       "3  Charlotte Perkins Gilman  1915   CP_004  \n",
       "4  Charlotte Perkins Gilman  1915   CP_005  "
      ]
     },
     "metadata": {},
     "output_type": "display_data"
    }
   ],
   "source": [
    "# save chunks to csv\n",
    "df_chunks = pd.DataFrame(all_chunk_data)\n",
    "df_chunks.to_csv(OUTPUT_PATH_CONTEXT, index=False)\n",
    "\n",
    "print(f\"Final dataset saved to: {OUTPUT_PATH_CONTEXT}\")\n",
    "display(df_chunks.head())"
   ]
  },
  {
   "cell_type": "code",
   "execution_count": 16,
   "metadata": {},
   "outputs": [
    {
     "name": "stderr",
     "output_type": "stream",
     "text": [
      "Processing books:   5%|▍         | 1/21 [00:06<02:12,  6.60s/it]"
     ]
    },
    {
     "name": "stdout",
     "output_type": "stream",
     "text": [
      "\n",
      "--- Chunk 1 (words: 466) ---\n",
      "CHAPTER 1.\n",
      "A Not Unnatural Enterprise This is written from memory, unfortunately. If I could have brought with\n",
      "me the material I so carefully prepared, this would be a very different\n",
      "story. Whole books full of notes, carefully copied records, firsthand\n",
      "descriptions, and the pictures--that’s the wors...\n",
      "\n",
      "\n",
      "--- Chunk 2 (words: 500) ---\n",
      "The expedition was up among the thousand tributaries and enormous\n",
      "hinterland of a great river, up where the maps had to be made, savage\n",
      "dialects studied, and all manner of strange flora and fauna expected. But this story is not about that expedition. That was only the merest\n",
      "starter for ours. My int...\n",
      "\n",
      "\n",
      "--- Chunk 3 (words: 499) ---\n",
      "It was early yet; we had just breakfasted; and leaving word that we’d\n",
      "be back before night, we got away quietly, not wishing to be thought\n",
      "too gullible if we failed, and secretly hoping to have some nice little\n",
      "discovery all to ourselves. It was a long two hours, nearer three. I fancy the savage cou...\n",
      "\n"
     ]
    },
    {
     "name": "stderr",
     "output_type": "stream",
     "text": [
      "Processing books:  10%|▉         | 2/21 [00:23<04:03, 12.82s/it]"
     ]
    },
    {
     "name": "stdout",
     "output_type": "stream",
     "text": [
      "\n",
      "--- Chunk 1 (words: 475) ---\n",
      "CHAPTER I As the streets that lead from the Strand to the Embankment are very\n",
      "narrow, it is better not to walk down them arm-in-arm. If you persist,\n",
      "lawyers’ clerks will have to make flying leaps into the mud; young lady\n",
      "typists will have to fidget behind you. In the streets of London where\n",
      "beauty g...\n",
      "\n",
      "\n",
      "--- Chunk 2 (words: 499) ---\n",
      "Some one is always looking into the river\n",
      "near Waterloo Bridge; a couple will stand there talking for half an\n",
      "hour on a fine afternoon; most people, walking for pleasure,\n",
      "contemplate for three minutes; when, having compared the occasion with\n",
      "other occasions, or made some sentence, they pass on. Some...\n",
      "\n",
      "\n",
      "--- Chunk 3 (words: 474) ---\n",
      "She knew how to read the people who were passing her; there were the\n",
      "rich who were running to and from each others’ houses at this hour;\n",
      "there were the bigoted workers driving in a straight line to their\n",
      "offices; there were the poor who were unhappy and rightly malignant. Already, though there was s...\n",
      "\n"
     ]
    },
    {
     "name": "stderr",
     "output_type": "stream",
     "text": [
      "Processing books:  14%|█▍        | 3/21 [00:40<04:21, 14.53s/it]"
     ]
    },
    {
     "name": "stdout",
     "output_type": "stream",
     "text": [
      "\n",
      "--- Chunk 1 (words: 494) ---\n",
      "PART I. Comments on Genesis, Exodus, Leviticus, Numbers and Deuteronomy. \"In every soul there is bound up some truth and some error, and each\n",
      "gives to the world of thought what no other one possesses.\"--Cousin. 1898. By Elizabeth Cady Stanton REVISING COMMITTEE. \"We took sweet counsel together. \"--P...\n",
      "\n",
      "\n",
      "--- Chunk 2 (words: 471) ---\n",
      "Those who have been engaged this summer have adopted the following\n",
      "plan, which may be suggestive to new members of the committee. Each\n",
      "person purchased two Bibles, ran through them from Genesis to\n",
      "Revelations, marking all the texts that concerned women. The passages\n",
      "were cut out, and pasted in a bla...\n",
      "\n",
      "\n",
      "--- Chunk 3 (words: 476) ---\n",
      "These familiar texts are quoted by clergymen in their pulpits, by\n",
      "statesmen in the halls of legislation, by lawyers in the courts, and\n",
      "are echoed by the press of all civilized nations, and accepted by woman\n",
      "herself as \"The Word of God.\" So perverted is the religious element in\n",
      "her nature, that with ...\n",
      "\n"
     ]
    },
    {
     "name": "stderr",
     "output_type": "stream",
     "text": [
      "Processing books:  19%|█▉        | 4/21 [00:49<03:33, 12.56s/it]"
     ]
    },
    {
     "name": "stdout",
     "output_type": "stream",
     "text": [
      "\n",
      "--- Chunk 1 (words: 487) ---\n",
      "INTRODUCTION. After considering the historic page, and viewing the living world\n",
      "with anxious solicitude, the most melancholy emotions of sorrowful\n",
      "indignation have depressed my spirits, and I have sighed when\n",
      "obliged to confess, that either nature has made a great difference\n",
      "between man and man, or ...\n",
      "\n",
      "\n",
      "--- Chunk 2 (words: 451) ---\n",
      "The male pursues, the female yields--this is\n",
      "the law of nature; and it does not appear to be suspended or\n",
      "abrogated in favour of woman. This physical superiority cannot be\n",
      "denied--and it is a noble prerogative! But not content with this\n",
      "natural pre-eminence, men endeavour to sink us still lower, mer...\n",
      "\n",
      "\n",
      "--- Chunk 3 (words: 498) ---\n",
      "But as I purpose taking a separate view of the different ranks of\n",
      "society, and of the moral character of women, in each, this hint\n",
      "is, for the present, sufficient; and I have only alluded to the\n",
      "subject, because it appears to me to be the very essence of an\n",
      "introduction to give a cursory account of ...\n",
      "\n"
     ]
    },
    {
     "name": "stderr",
     "output_type": "stream",
     "text": [
      "Processing books:  24%|██▍       | 5/21 [00:54<02:32,  9.53s/it]"
     ]
    },
    {
     "name": "stdout",
     "output_type": "stream",
     "text": [
      "\n",
      "--- Chunk 1 (words: 441) ---\n",
      "HER BIRTH AND PARENTAGE. THE subject of this biography, SOJOURNER TRUTH, as she now calls\n",
      "herself-but whose name, originally, was Isabella-was born, as near as\n",
      "she can now calculate, between the years 1797 and 1800. She was the\n",
      "daughter of James and Betsey, slaves of one Colonel Ardinburgh, Hurley,\n",
      "...\n",
      "\n",
      "\n",
      "--- Chunk 2 (words: 438) ---\n",
      "Still, she does not attribute this cruelty-for cruelty\n",
      "it certainly is, to be so unmindful of the health and comfort of any\n",
      "being, leaving entirely out of sight his more important part, his\n",
      "everlasting interests,-so much to any innate or constitutional cruelty\n",
      "of the master, as to that gigantic inco...\n",
      "\n",
      "\n",
      "--- Chunk 3 (words: 481) ---\n",
      "This event was noticed with childish pleasure by the\n",
      "unsuspicious boy; but when he was taken and put into the sleigh, and\n",
      "saw his little sister actually shut and locked into the sleigh box, his\n",
      "eyes were at once opened to their intentions; and, like a frightened\n",
      "deer he sprang from the sleigh, and r...\n",
      "\n"
     ]
    },
    {
     "name": "stderr",
     "output_type": "stream",
     "text": [
      "Processing books:  29%|██▊       | 6/21 [01:06<02:39, 10.66s/it]"
     ]
    },
    {
     "name": "stdout",
     "output_type": "stream",
     "text": [
      "\n",
      "--- Chunk 1 (words: 492) ---\n",
      "INTRODUCTION. * * * * * The problem of Woman's position, or \"sphere,\"--of her duties,\n",
      "responsibilities, rights and immunities as Woman,--fitly attracts a\n",
      "large and still-increasing measure of attention from the thinkers and\n",
      "agitators of our time, The legislators, so called,--those who\n",
      "ultimately ena...\n",
      "\n",
      "\n",
      "--- Chunk 2 (words: 493) ---\n",
      "It is due to her memory, as well as to the great and living\n",
      "cause of which she was so eminent and so fearless an advocate, that\n",
      "what she thought and said with regard to the position of her sex and\n",
      "its limitations, should be fully and fairly placed before the public. For several years past her princi...\n",
      "\n",
      "\n",
      "--- Chunk 3 (words: 471) ---\n",
      "I lay no\n",
      "especial stress on the welfare of either. I believe that the\n",
      "development of the one cannot be effected without that of the other. My highest wish is that this truth should be distinctly and rationally\n",
      "apprehended, and the conditions of life and freedom recognized as the\n",
      "same for the daughte...\n",
      "\n"
     ]
    },
    {
     "name": "stderr",
     "output_type": "stream",
     "text": [
      "Processing books:  33%|███▎      | 7/21 [01:13<02:08,  9.21s/it]"
     ]
    },
    {
     "name": "stdout",
     "output_type": "stream",
     "text": [
      "\n",
      "--- Chunk 1 (words: 500) ---\n",
      "OLD NORWAY. Still the old tempests rage around the mountains,\n",
      " And ocean's billows as of old appear;\n",
      " The roaring wood and the resounding fountains\n",
      " Time has not silenced in his long career,\n",
      " For Nature is the same as ever. MUNCH. The shadow of God wanders through Nature. LINNÆUS. Before yet a song ...\n",
      "\n",
      "\n",
      "--- Chunk 2 (words: 487) ---\n",
      "\"Wilt thou behold the great and the\n",
      "majestic? Behold the Gausta, which raises its colossal knees six\n",
      "thousand feet above the surface of the earth; behold the wild giant\n",
      "forms of Hurrungen, Fannarauken, Mugnafjeld; behold the Rjukan (the\n",
      "rushing), the Vöring, and Vedal rivers foaming and thundering o...\n",
      "\n",
      "\n",
      "--- Chunk 3 (words: 491) ---\n",
      "We set ourselves down in a region whose name and\n",
      "situation we counsel nobody to seek out in maps, and which we call-- HEIMDAL. Knowest thou the deep, cool dale,\n",
      " Where church-like stillness doth prevail;\n",
      " Where neither flock nor herd you meet;\n",
      " Which hath no name nor track of feet? VELHAVEN. Heimdal...\n",
      "\n"
     ]
    },
    {
     "name": "stderr",
     "output_type": "stream",
     "text": [
      "Processing books:  38%|███▊      | 8/21 [01:20<01:53,  8.77s/it]"
     ]
    },
    {
     "name": "stdout",
     "output_type": "stream",
     "text": [
      "\n",
      "--- Chunk 1 (words: 469) ---\n",
      "Mrs. Dalloway said she would buy the flowers herself. For Lucy had her work cut out for her. The doors would be taken off\n",
      "their hinges; Rumpelmayer’s men were coming. And then, thought Clarissa\n",
      "Dalloway, what a morning--fresh as if issued to children on a beach. What a lark! What a plunge! For so it...\n",
      "\n",
      "\n",
      "--- Chunk 2 (words: 466) ---\n",
      "In people’s eyes, in the swing, tramp, and trudge; in\n",
      "the bellow and the uproar; the carriages, motor cars, omnibuses, vans,\n",
      "sandwich men shuffling and swinging; brass bands; barrel organs; in the\n",
      "triumph and the jingle and the strange high singing of some aeroplane\n",
      "overhead was what she loved; life...\n",
      "\n",
      "\n",
      "--- Chunk 3 (words: 499) ---\n",
      "Evelyn was a good deal out of sorts, said Hugh, intimating by a kind\n",
      "of pout or swell of his very well-covered, manly, extremely handsome,\n",
      "perfectly upholstered body (he was almost too well dressed always,\n",
      "but presumably had to be, with his little job at Court) that his wife\n",
      "had some internal ailmen...\n",
      "\n"
     ]
    },
    {
     "name": "stderr",
     "output_type": "stream",
     "text": [
      "Processing books:  43%|████▎     | 9/21 [01:35<02:07, 10.59s/it]"
     ]
    },
    {
     "name": "stdout",
     "output_type": "stream",
     "text": [
      "\n",
      "--- Chunk 1 (words: 481) ---\n",
      "CHAPTER I 1801—I have just returned from a visit to my landlord—the solitary\n",
      "neighbour that I shall be troubled with. This is certainly a beautiful\n",
      "country! In all England, I do not believe that I could have fixed on a\n",
      "situation so completely removed from the stir of society. A perfect\n",
      "misanthropist...\n",
      "\n",
      "\n",
      "--- Chunk 2 (words: 480) ---\n",
      "Happily, the architect had foresight to build\n",
      "it strong: the narrow windows are deeply set in the wall, and the\n",
      "corners defended with large jutting stones. Before passing the threshold, I paused to admire a quantity of\n",
      "grotesque carving lavished over the front, and especially about the\n",
      "principal doo...\n",
      "\n",
      "\n",
      "--- Chunk 3 (words: 494) ---\n",
      "Possibly, some people might suspect him of a degree of under-bred\n",
      "pride; I have a sympathetic chord within that tells me it is nothing of\n",
      "the sort: I know, by instinct, his reserve springs from an aversion to\n",
      "showy displays of feeling—to manifestations of mutual kindliness. He’ll\n",
      "love and hate equal...\n",
      "\n"
     ]
    },
    {
     "name": "stderr",
     "output_type": "stream",
     "text": [
      "Processing books:  48%|████▊     | 10/21 [01:48<02:03, 11.23s/it]"
     ]
    },
    {
     "name": "stdout",
     "output_type": "stream",
     "text": [
      "\n",
      "--- Chunk 1 (words: 475) ---\n",
      "CHAPTER I. POLLY ARRIVES “IT'S time to go to the station, Tom.” “Come on, then.” “Oh, I'm not going; it's too wet. Should n't have a crimp left if I\n",
      "went out such a day as this; and I want to look nice when Polly comes.” “You don't expect me to go and bring home a strange girl alone, do you?”\n",
      " And T...\n",
      "\n",
      "\n",
      "--- Chunk 2 (words: 473) ---\n",
      "Feeling that he said rather a neat and cutting thing, Tom sauntered\n",
      "leisurely away, perfectly conscious that it was late, but bent on not\n",
      "being hurried while in sight, though he ran himself off his legs to make\n",
      "up for it afterward. “If I was the President, I'd make a law to shut up all boys till the...\n",
      "\n",
      "\n",
      "--- Chunk 3 (words: 480) ---\n",
      "“Oh, Fan told me you'd got curly hair, and a funny nose, and kept\n",
      "whistling, and wore a gray cap pulled over your eyes; so I knew you\n",
      "directly.” And Polly nodded at him in the most friendly manner, having\n",
      "politely refrained from calling the hair “red,” the nose “a pug,” and\n",
      "the cap “old,” all of whi...\n",
      "\n"
     ]
    },
    {
     "name": "stderr",
     "output_type": "stream",
     "text": [
      "Processing books:  52%|█████▏    | 11/21 [02:13<02:35, 15.52s/it]"
     ]
    },
    {
     "name": "stdout",
     "output_type": "stream",
     "text": [
      "\n",
      "--- Chunk 1 (words: 488) ---\n",
      "BOOK FIRST BOY AND GIRL. Chapter I. Outside Dorlcote Mill A wide plain, where the broadening Floss hurries on between its green\n",
      "banks to the sea, and the loving tide, rushing to meet it, checks its\n",
      "passage with an impetuous embrace. On this mighty tide the black\n",
      "ships—laden with the fresh-scented fi...\n",
      "\n",
      "\n",
      "--- Chunk 2 (words: 470) ---\n",
      "That honest wagoner is thinking of his\n",
      "dinner, getting sadly dry in the oven at this late hour; but he will\n",
      "not touch it till he has fed his horses,—the strong, submissive,\n",
      "meek-eyed beasts, who, I fancy, are looking mild reproach at him from\n",
      "between their blinkers, that he should crack his whip at ...\n",
      "\n",
      "\n",
      "--- Chunk 3 (words: 491) ---\n",
      "The two years at th’ academy ’ud ha’ done well enough, if I’d meant to\n",
      "make a miller and farmer of him, for he’s had a fine sight more\n",
      "schoolin’ nor _I_ ever got. All the learnin’ _my_ father ever paid for\n",
      "was a bit o’ birch at one end and the alphabet at th’ other. But I\n",
      "should like Tom to be a bit...\n",
      "\n"
     ]
    },
    {
     "name": "stderr",
     "output_type": "stream",
     "text": [
      "Processing books:  57%|█████▋    | 12/21 [02:14<01:39, 11.03s/it]"
     ]
    },
    {
     "name": "stdout",
     "output_type": "stream",
     "text": [
      "\n",
      "--- Chunk 1 (words: 489) ---\n",
      "It is very seldom that mere ordinary people like John and myself secure\n",
      "ancestral halls for the summer. A colonial mansion, a hereditary estate, I would say a haunted house,\n",
      "and reach the height of romantic felicity—but that would be asking too\n",
      "much of fate! Still I will proudly declare that there i...\n",
      "\n",
      "\n",
      "--- Chunk 2 (words: 479) ---\n",
      "I even said so to John one moonlight evening, but he said what I felt\n",
      "was a draught, and shut the window. I get unreasonably angry with John sometimes. I’m sure I never used to\n",
      "be so sensitive. I think it is due to this nervous condition. But John says if I feel so I shall neglect proper self-contro...\n",
      "\n",
      "\n",
      "--- Chunk 3 (words: 466) ---\n",
      "I am sitting by the window now, up in this atrocious nursery, and there\n",
      "is nothing to hinder my writing as much as I please, save lack of\n",
      "strength. John is away all day, and even some nights when his cases are serious. I am glad my case is not serious! But these nervous troubles are dreadfully depre...\n",
      "\n"
     ]
    },
    {
     "name": "stderr",
     "output_type": "stream",
     "text": [
      "Processing books:  62%|██████▏   | 13/21 [02:29<01:38, 12.35s/it]"
     ]
    },
    {
     "name": "stdout",
     "output_type": "stream",
     "text": [
      "\n",
      "--- Chunk 1 (words: 485) ---\n",
      "CHAPTER I. CHILDHOOD. The psychical growth of a child is not influenced by days and years, but\n",
      "by the impressions passing events make on its mind. What may prove a\n",
      "sudden awakening to one, giving an impulse in a certain direction that\n",
      "may last for years, may make no impression on another. People won...\n",
      "\n",
      "\n",
      "--- Chunk 2 (words: 476) ---\n",
      "My father was a man of firm character and unimpeachable integrity, and\n",
      "yet sensitive and modest to a painful degree. There were but two places\n",
      "in which he felt at ease--in the courthouse and at his own fireside. Though gentle and tender, he had such a dignified repose and reserve of\n",
      "manner that, as ...\n",
      "\n",
      "\n",
      "--- Chunk 3 (words: 492) ---\n",
      "The large,\n",
      "pleasant room with the white curtains and bright wood fire on the\n",
      "hearth, where panada, catnip, and all kinds of little messes which we\n",
      "were allowed to taste were kept warm, was the center of attraction for\n",
      "the older children. I heard so many friends remark, \"What a pity it is\n",
      "she's a gir...\n",
      "\n"
     ]
    },
    {
     "name": "stderr",
     "output_type": "stream",
     "text": [
      "Processing books:  67%|██████▋   | 14/21 [02:48<01:40, 14.34s/it]"
     ]
    },
    {
     "name": "stdout",
     "output_type": "stream",
     "text": [
      "\n",
      "--- Chunk 1 (words: 487) ---\n",
      "VOLUME I CHAPTER I Emma Woodhouse, handsome, clever, and rich, with a comfortable home and\n",
      "happy disposition, seemed to unite some of the best blessings of\n",
      "existence; and had lived nearly twenty-one years in the world with very\n",
      "little to distress or vex her. She was the youngest of the two daughters...\n",
      "\n",
      "\n",
      "--- Chunk 2 (words: 461) ---\n",
      "A large debt of\n",
      "gratitude was owing here; but the intercourse of the last seven years,\n",
      "the equal footing and perfect unreserve which had soon followed\n",
      "Isabella’s marriage, on their being left to each other, was yet a\n",
      "dearer, tenderer recollection. She had been a friend and companion such\n",
      "as few poss...\n",
      "\n",
      "\n",
      "--- Chunk 3 (words: 485) ---\n",
      "Matrimony, as the origin of change, was always disagreeable; and he was\n",
      "by no means yet reconciled to his own daughter’s marrying, nor could\n",
      "ever speak of her but with compassion, though it had been entirely a\n",
      "match of affection, when he was now obliged to part with Miss Taylor\n",
      "too; and from his hab...\n",
      "\n"
     ]
    },
    {
     "name": "stderr",
     "output_type": "stream",
     "text": [
      "Processing books:  71%|███████▏  | 15/21 [03:03<01:26, 14.48s/it]"
     ]
    },
    {
     "name": "stdout",
     "output_type": "stream",
     "text": [
      "\n",
      "--- Chunk 1 (words: 497) ---\n",
      "Chapter I. It is a truth universally acknowledged, that a single man in possession\n",
      "of a good fortune must be in want of a wife. However little known the feelings or views of such a man may be on his\n",
      "first entering a neighbourhood, this truth is so well fixed in the minds\n",
      "of the surrounding families,...\n",
      "\n",
      "\n",
      "--- Chunk 2 (words: 492) ---\n",
      "Sir William and Lady Lucas are determined to go,\n",
      "merely on that account; for in general, you know, they visit no new\n",
      "comers. Indeed you must go, for it will be impossible for _us_ to visit\n",
      "him, if you do not.” “You are over scrupulous, surely. I dare say Mr. Bingley will be very\n",
      "glad to see you; and...\n",
      "\n",
      "\n",
      "--- Chunk 3 (words: 499) ---\n",
      "“But you forget, mamma,” said Elizabeth, “that we shall meet him at the\n",
      "assemblies, and that Mrs. Long has promised to introduce him.” “I do not believe Mrs. Long will do any such thing. She has two nieces\n",
      "of her own. She is a selfish, hypocritical woman, and I have no opinion\n",
      "of her.” “No more have...\n",
      "\n"
     ]
    },
    {
     "name": "stderr",
     "output_type": "stream",
     "text": [
      "Processing books:  76%|███████▌  | 16/21 [03:11<01:02, 12.45s/it]"
     ]
    },
    {
     "name": "stdout",
     "output_type": "stream",
     "text": [
      "\n",
      "--- Chunk 1 (words: 483) ---\n",
      "I A green and yellow parrot, which hung in a cage outside the door, kept\n",
      "repeating over and over: “_Allez vous-en! Allez vous-en! Sapristi!_ That’s all right!” He could speak a little Spanish, and also a language which nobody\n",
      "understood, unless it was the mocking-bird that hung on the other side\n",
      "of ...\n",
      "\n",
      "\n",
      "--- Chunk 2 (words: 497) ---\n",
      "Mr. Pontellier finally lit a cigar and began to smoke, letting the\n",
      "paper drag idly from his hand. He fixed his gaze upon a white sunshade\n",
      "that was advancing at snail’s pace from the beach. He could see it\n",
      "plainly between the gaunt trunks of the water-oaks and across the\n",
      "stretch of yellow camomile. T...\n",
      "\n",
      "\n",
      "--- Chunk 3 (words: 487) ---\n",
      "Both children wanted to follow their father when they saw him starting\n",
      "out. He kissed them and promised to bring them back bonbons and\n",
      "peanuts. II Mrs. Pontellier’s eyes were quick and bright; they were a yellowish\n",
      "brown, about the color of her hair. She had a way of turning them\n",
      "swiftly upon an obj...\n",
      "\n"
     ]
    },
    {
     "name": "stderr",
     "output_type": "stream",
     "text": [
      "Processing books:  81%|████████  | 17/21 [03:33<01:02, 15.56s/it]"
     ]
    },
    {
     "name": "stdout",
     "output_type": "stream",
     "text": [
      "\n",
      "--- Chunk 1 (words: 500) ---\n",
      "PART 1 CHAPTER ONE\n",
      "PLAYING PILGRIMS “Christmas won’t be Christmas without any presents,” grumbled Jo, lying\n",
      "on the rug. “It’s so dreadful to be poor!” sighed Meg, looking down at her old\n",
      "dress. “I don’t think it’s fair for some girls to have plenty of pretty\n",
      "things, and other girls nothing at all,” ...\n",
      "\n",
      "\n",
      "--- Chunk 2 (words: 491) ---\n",
      "“I don’t believe any of you suffer as I do,” cried Amy, “for you don’t\n",
      "have to go to school with impertinent girls, who plague you if you\n",
      "don’t know your lessons, and laugh at your dresses, and label your\n",
      "father if he isn’t rich, and insult you when your nose isn’t nice.” “If you mean libel, I’d say...\n",
      "\n",
      "\n",
      "--- Chunk 3 (words: 495) ---\n",
      "So you must try to be\n",
      "contented with making your name boyish, and playing brother to us\n",
      "girls,” said Beth, stroking the rough head with a hand that all the\n",
      "dish washing and dusting in the world could not make ungentle in its\n",
      "touch. “As for you, Amy,” continued Meg, “you are altogether too particular...\n",
      "\n"
     ]
    },
    {
     "name": "stderr",
     "output_type": "stream",
     "text": [
      "Processing books:  86%|████████▌ | 18/21 [03:36<00:35, 11.70s/it]"
     ]
    },
    {
     "name": "stdout",
     "output_type": "stream",
     "text": [
      "\n",
      "--- Chunk 1 (words: 452) ---\n",
      "MARY CHAP. I. Mary, the heroine of this fiction, was the daughter of Edward, who\n",
      "married Eliza, a gentle, fashionable girl, with a kind of indolence in\n",
      "her temper, which might be termed negative good-nature: her virtues,\n",
      "indeed, were all of that stamp. She carefully attended to the _shews_ of\n",
      "things...\n",
      "\n",
      "\n",
      "--- Chunk 2 (words: 427) ---\n",
      "As she was sometimes obliged to be alone, or only with her French\n",
      "waiting-maid, she sent to the metropolis for all the new publications,\n",
      "and while she was dressing her hair, and she could turn her eyes from\n",
      "the glass, she ran over those most delightful substitutes for bodily\n",
      "dissipation, novels. I s...\n",
      "\n",
      "\n",
      "--- Chunk 3 (words: 486) ---\n",
      "She was chaste, according to the vulgar acceptation of the word, that\n",
      "is, she did not make any actual _faux pas_; she feared the world, and\n",
      "was indolent; but then, to make amends for this seeming self-denial, she\n",
      "read all the sentimental novels, dwelt on the love-scenes, and, had she\n",
      "thought while s...\n",
      "\n"
     ]
    },
    {
     "name": "stderr",
     "output_type": "stream",
     "text": [
      "Processing books:  90%|█████████ | 19/21 [04:14<00:39, 19.52s/it]"
     ]
    },
    {
     "name": "stdout",
     "output_type": "stream",
     "text": [
      "\n",
      "--- Chunk 1 (words: 494) ---\n",
      "PRELUDE. Who that cares much to know the history of man, and how the mysterious\n",
      "mixture behaves under the varying experiments of Time, has not dwelt,\n",
      "at least briefly, on the life of Saint Theresa, has not smiled with\n",
      "some gentleness at the thought of the little girl walking forth one\n",
      "morning hand-i...\n",
      "\n",
      "\n",
      "--- Chunk 2 (words: 441) ---\n",
      "Since I can do no good because a woman,\n",
      "Reach constantly at something that is near it. —_ The Maid’s Tragedy:_ BEAUMONT AND FLETCHER. Miss Brooke had that kind of beauty which seems to be thrown into\n",
      "relief by poor dress. Her hand and wrist were so finely formed that she\n",
      "could wear sleeves not less ...\n",
      "\n",
      "\n",
      "--- Chunk 3 (words: 463) ---\n",
      "Her mind was theoretic, and yearned\n",
      "by its nature after some lofty conception of the world which might\n",
      "frankly include the parish of Tipton and her own rule of conduct there;\n",
      "she was enamoured of intensity and greatness, and rash in embracing\n",
      "whatever seemed to her to have those aspects; likely to s...\n",
      "\n"
     ]
    },
    {
     "name": "stderr",
     "output_type": "stream",
     "text": [
      "Processing books:  95%|█████████▌| 20/21 [04:21<00:15, 15.86s/it]"
     ]
    },
    {
     "name": "stdout",
     "output_type": "stream",
     "text": [
      "\n",
      "--- Chunk 1 (words: 476) ---\n",
      "A NO-ACCOUNT CREOLE I. One agreeable afternoon in late autumn two young men stood together on\n",
      "Canal Street, closing a conversation that had evidently begun within\n",
      "the club-house which they had just quitted. \"There's big money in it, Offdean,\" said the elder of the two. \"I would\n",
      "n't have you touch it...\n",
      "\n",
      "\n",
      "--- Chunk 2 (words: 492) ---\n",
      "He had gone to college, had traveled a\n",
      "little at home and abroad, had frequented society and the clubs, and\n",
      "had worked in his uncle's commission-house; in all of which employments\n",
      "he had expended much time and a modicum of energy. But he felt all through that he was simply in a preliminary stage\n",
      "of ...\n",
      "\n",
      "\n",
      "--- Chunk 3 (words: 494) ---\n",
      "A dozen rods or more from the Red River bank stood the dwelling-house,\n",
      "and nowhere upon the plantation had time touched so sadly as here. The\n",
      "steep, black, moss-covered roof sat like an extinguisher above the\n",
      "eight large rooms that it covered, and had come to do its office so\n",
      "poorly that not more th...\n",
      "\n"
     ]
    },
    {
     "name": "stderr",
     "output_type": "stream",
     "text": [
      "Processing books: 100%|██████████| 21/21 [04:44<00:00, 13.56s/it]"
     ]
    },
    {
     "name": "stdout",
     "output_type": "stream",
     "text": [
      "\n",
      "--- Chunk 1 (words: 498) ---\n",
      "CHAPTER I There was no possibility of taking a walk that day. We had been\n",
      "wandering, indeed, in the leafless shrubbery an hour in the morning;\n",
      "but since dinner (Mrs. Reed, when there was no company, dined early)\n",
      "the cold winter wind had brought with it clouds so sombre, and a rain\n",
      "so penetrating, th...\n",
      "\n",
      "\n",
      "--- Chunk 2 (words: 497) ---\n",
      "“Where the Northern Ocean, in vast whirls,\n",
      "Boils round the naked, melancholy isles\n",
      "Of farthest Thule; and the Atlantic surge\n",
      "Pours in among the stormy Hebrides.” Nor could I pass unnoticed the suggestion of the bleak shores of\n",
      "Lapland, Siberia, Spitzbergen, Nova Zembla, Iceland, Greenland, with\n",
      "“the...\n",
      "\n",
      "\n",
      "--- Chunk 3 (words: 497) ---\n",
      "And I came out immediately, for I trembled at the idea of being dragged\n",
      "forth by the said Jack. “What do you want?” I asked, with awkward diffidence. “Say, ‘What do you want, Master Reed?’” was the answer. “I want you to\n",
      "come here;” and seating himself in an arm-chair, he intimated by a\n",
      "gesture that...\n",
      "\n",
      "Finished processing: 4852 total chunks from 21 books.\n"
     ]
    },
    {
     "name": "stderr",
     "output_type": "stream",
     "text": [
      "\n"
     ]
    }
   ],
   "source": [
    "# process books => NO CONTEXT CHUNKS\n",
    "all_chunk_data = []\n",
    "\n",
    "book_files = list(CLEANED_DATA_DIR.glob(\"*.txt\"))\n",
    "\n",
    "for book_file in tqdm(book_files, desc=\"Processing books\"):\n",
    "    book_name = book_file.name\n",
    "    if book_name not in metadata.index:\n",
    "        print(f\"Skipping {book_name} (no metadata)\")\n",
    "        continue\n",
    "\n",
    "    with open(book_file, \"r\", encoding=\"utf-8\") as f:\n",
    "        text = f.read()\n",
    "\n",
    "    # tokenize\n",
    "    sentences = tokenize_sentences(text, show_progress=False)\n",
    "\n",
    "    # chunk\n",
    "    chunks = chunk_sentences(sentences, debug=True)\n",
    "\n",
    "    # metadata\n",
    "    meta = metadata.loc[book_name]\n",
    "    title, author, year = meta[\"title\"], meta[\"author\"], meta[\"year\"]\n",
    "    author_code = \"\".join([w[0].upper() for w in author.split()[:2]])\n",
    "\n",
    "    # collect chunks\n",
    "    for i, chunk in enumerate(chunks):\n",
    "        chunk_id = f\"{author_code}_{i+1:03d}\"\n",
    "        all_chunk_data.append({\n",
    "            \"chunk\": chunk,\n",
    "            \"title\": title,\n",
    "            \"author\": author,\n",
    "            \"year\": year,\n",
    "            \"chunk_id\": chunk_id\n",
    "        })\n",
    "\n",
    "print(f\"Finished processing: {len(all_chunk_data)} total chunks from {len(book_files)} books.\")"
   ]
  },
  {
   "cell_type": "code",
   "execution_count": 17,
   "metadata": {},
   "outputs": [
    {
     "name": "stdout",
     "output_type": "stream",
     "text": [
      "Final dataset saved to: /Users/emmamora/Documents/GitHub/feminist_nlp/data/processed/processed_book_chunks.csv\n"
     ]
    },
    {
     "data": {
      "text/html": [
       "<div>\n",
       "<style scoped>\n",
       "    .dataframe tbody tr th:only-of-type {\n",
       "        vertical-align: middle;\n",
       "    }\n",
       "\n",
       "    .dataframe tbody tr th {\n",
       "        vertical-align: top;\n",
       "    }\n",
       "\n",
       "    .dataframe thead th {\n",
       "        text-align: right;\n",
       "    }\n",
       "</style>\n",
       "<table border=\"1\" class=\"dataframe\">\n",
       "  <thead>\n",
       "    <tr style=\"text-align: right;\">\n",
       "      <th></th>\n",
       "      <th>chunk</th>\n",
       "      <th>title</th>\n",
       "      <th>author</th>\n",
       "      <th>year</th>\n",
       "      <th>chunk_id</th>\n",
       "    </tr>\n",
       "  </thead>\n",
       "  <tbody>\n",
       "    <tr>\n",
       "      <th>0</th>\n",
       "      <td>CHAPTER 1.\\nA Not Unnatural Enterprise This is...</td>\n",
       "      <td>Herland</td>\n",
       "      <td>Charlotte Perkins Gilman</td>\n",
       "      <td>1915</td>\n",
       "      <td>CP_001</td>\n",
       "    </tr>\n",
       "    <tr>\n",
       "      <th>1</th>\n",
       "      <td>The expedition was up among the thousand tribu...</td>\n",
       "      <td>Herland</td>\n",
       "      <td>Charlotte Perkins Gilman</td>\n",
       "      <td>1915</td>\n",
       "      <td>CP_002</td>\n",
       "    </tr>\n",
       "    <tr>\n",
       "      <th>2</th>\n",
       "      <td>It was early yet; we had just breakfasted; and...</td>\n",
       "      <td>Herland</td>\n",
       "      <td>Charlotte Perkins Gilman</td>\n",
       "      <td>1915</td>\n",
       "      <td>CP_003</td>\n",
       "    </tr>\n",
       "    <tr>\n",
       "      <th>3</th>\n",
       "      <td>“Woman Country--up\\nthere.” Then we were inter...</td>\n",
       "      <td>Herland</td>\n",
       "      <td>Charlotte Perkins Gilman</td>\n",
       "      <td>1915</td>\n",
       "      <td>CP_004</td>\n",
       "    </tr>\n",
       "    <tr>\n",
       "      <th>4</th>\n",
       "      <td>It had a special covering of fitted armor, thi...</td>\n",
       "      <td>Herland</td>\n",
       "      <td>Charlotte Perkins Gilman</td>\n",
       "      <td>1915</td>\n",
       "      <td>CP_005</td>\n",
       "    </tr>\n",
       "  </tbody>\n",
       "</table>\n",
       "</div>"
      ],
      "text/plain": [
       "                                               chunk    title  \\\n",
       "0  CHAPTER 1.\\nA Not Unnatural Enterprise This is...  Herland   \n",
       "1  The expedition was up among the thousand tribu...  Herland   \n",
       "2  It was early yet; we had just breakfasted; and...  Herland   \n",
       "3  “Woman Country--up\\nthere.” Then we were inter...  Herland   \n",
       "4  It had a special covering of fitted armor, thi...  Herland   \n",
       "\n",
       "                     author  year chunk_id  \n",
       "0  Charlotte Perkins Gilman  1915   CP_001  \n",
       "1  Charlotte Perkins Gilman  1915   CP_002  \n",
       "2  Charlotte Perkins Gilman  1915   CP_003  \n",
       "3  Charlotte Perkins Gilman  1915   CP_004  \n",
       "4  Charlotte Perkins Gilman  1915   CP_005  "
      ]
     },
     "metadata": {},
     "output_type": "display_data"
    }
   ],
   "source": [
    "# save chunks to csv\n",
    "df_chunks = pd.DataFrame(all_chunk_data)\n",
    "df_chunks.to_csv(OUTPUT_PATH_NO_CONTEXT, index=False)\n",
    "\n",
    "print(f\"Final dataset saved to: {OUTPUT_PATH_NO_CONTEXT}\")\n",
    "display(df_chunks.head())"
   ]
  }
 ],
 "metadata": {
  "kernelspec": {
   "display_name": "feminist-nlp",
   "language": "python",
   "name": "python3"
  },
  "language_info": {
   "codemirror_mode": {
    "name": "ipython",
    "version": 3
   },
   "file_extension": ".py",
   "mimetype": "text/x-python",
   "name": "python",
   "nbconvert_exporter": "python",
   "pygments_lexer": "ipython3",
   "version": "3.10.17"
  }
 },
 "nbformat": 4,
 "nbformat_minor": 2
}
