{
 "cells": [
  {
   "cell_type": "markdown",
   "metadata": {},
   "source": [
    "# Analysis of Themes, Emotions and Tones in the Dataset"
   ]
  },
  {
   "cell_type": "markdown",
   "metadata": {},
   "source": [
    "## 1. Introduction - TODO"
   ]
  },
  {
   "cell_type": "markdown",
   "metadata": {},
   "source": [
    "## 2. Environment and Data"
   ]
  },
  {
   "cell_type": "code",
   "execution_count": 2,
   "metadata": {},
   "outputs": [],
   "source": [
    "# import necessary libraries\n",
    "import pandas as pd\n",
    "import numpy as np\n",
    "import spacy\n",
    "from pathlib import Path"
   ]
  },
  {
   "cell_type": "code",
   "execution_count": 4,
   "metadata": {},
   "outputs": [
    {
     "name": "stdout",
     "output_type": "stream",
     "text": [
      "Repository Path: /Users/emmamora/Documents/GitHub/feminist_nlp\n",
      "Processed Data Loaded From: /Users/emmamora/Documents/GitHub/feminist_nlp/data/processed/processed_book_chunks.csv\n"
     ]
    }
   ],
   "source": [
    "# set base repository path\n",
    "REPO_DIR = Path(\".\").resolve().parents[1]\n",
    "\n",
    "# define data input/output paths\n",
    "PROCESSED_PATH = REPO_DIR / \"data\" / \"processed\" / \"processed_book_chunks.csv\"\n",
    "EMOTION_EXPORT_PATH = REPO_DIR / \"data\" / \"processed\" / \"emotion_sentences.csv\"\n",
    "THEME_EXPORT_PATH = REPO_DIR / \"data\" / \"processed\" / \"thematic_corpus.csv\"\n",
    "\n",
    "# load spaCy model (can be switched later to transformer-based)\n",
    "nlp = spacy.load(\"en_core_web_sm\")  # light and fast for prototyping\n",
    "\n",
    "# confirm setup\n",
    "print(\"Repository Path:\", REPO_DIR)\n",
    "print(\"Processed Data Loaded From:\", PROCESSED_PATH)"
   ]
  },
  {
   "cell_type": "markdown",
   "metadata": {},
   "source": [
    "## 3. Load Source Data"
   ]
  },
  {
   "cell_type": "markdown",
   "metadata": {},
   "source": [
    "we go over the data we are working with:\n",
    "- full books stored in data/raw"
   ]
  },
  {
   "cell_type": "code",
   "execution_count": 5,
   "metadata": {},
   "outputs": [],
   "source": [
    "# load the processed chunk-level dataframe\n",
    "df_chunks = pd.read_csv(PROCESSED_PATH)"
   ]
  },
  {
   "cell_type": "code",
   "execution_count": 7,
   "metadata": {},
   "outputs": [
    {
     "name": "stdout",
     "output_type": "stream",
     "text": [
      "\n",
      "Data shape: (10602, 5)\n",
      "\n",
      "Columns: ['text', 'sentiment', 'entities', 'verbs', 'title']\n"
     ]
    },
    {
     "data": {
      "text/html": [
       "<div>\n",
       "<style scoped>\n",
       "    .dataframe tbody tr th:only-of-type {\n",
       "        vertical-align: middle;\n",
       "    }\n",
       "\n",
       "    .dataframe tbody tr th {\n",
       "        vertical-align: top;\n",
       "    }\n",
       "\n",
       "    .dataframe thead th {\n",
       "        text-align: right;\n",
       "    }\n",
       "</style>\n",
       "<table border=\"1\" class=\"dataframe\">\n",
       "  <thead>\n",
       "    <tr style=\"text-align: right;\">\n",
       "      <th></th>\n",
       "      <th>text</th>\n",
       "      <th>sentiment</th>\n",
       "      <th>entities</th>\n",
       "      <th>verbs</th>\n",
       "      <th>title</th>\n",
       "    </tr>\n",
       "  </thead>\n",
       "  <tbody>\n",
       "    <tr>\n",
       "      <th>0</th>\n",
       "      <td>HERLAND by Charlotte Perkins Stetson Gilman CH...</td>\n",
       "      <td>NaN</td>\n",
       "      <td>[('Charlotte Perkins Stetson Gilman', 'PERSON'...</td>\n",
       "      <td>['write', 'bring', 'prepare', 'copy', '’', 'ha...</td>\n",
       "      <td>Herland</td>\n",
       "    </tr>\n",
       "    <tr>\n",
       "      <th>1</th>\n",
       "      <td>Vandyck Jennings. We had known each other year...</td>\n",
       "      <td>NaN</td>\n",
       "      <td>[('Vandyck Jennings', 'PERSON'), ('years', 'DA...</td>\n",
       "      <td>['know', 'have', 'do', 'please', 'use', 'make'...</td>\n",
       "      <td>Herland</td>\n",
       "    </tr>\n",
       "    <tr>\n",
       "      <th>2</th>\n",
       "      <td>scientific expedition. They needed a doctor, a...</td>\n",
       "      <td>NaN</td>\n",
       "      <td>[('Jeff', 'PERSON'), ('Terry', 'PERSON'), ('Te...</td>\n",
       "      <td>['need', 'give', 'drop', 'need', 'get', 'make'...</td>\n",
       "      <td>Herland</td>\n",
       "    </tr>\n",
       "    <tr>\n",
       "      <th>3</th>\n",
       "      <td>the main point--that there was this strange co...</td>\n",
       "      <td>NaN</td>\n",
       "      <td>[('Plenty People--All Women', 'PERSON'), ('thr...</td>\n",
       "      <td>['be', 'live', 'see', 'say', 'go', 'be', 'see'...</td>\n",
       "      <td>Herland</td>\n",
       "    </tr>\n",
       "    <tr>\n",
       "      <th>4</th>\n",
       "      <td>I had understood, so I showed him a red and bl...</td>\n",
       "      <td>NaN</td>\n",
       "      <td>[('Terry', 'PERSON'), ('Van', 'PERSON'), ('Ter...</td>\n",
       "      <td>['understand', 'show', 'carry', 'ask', 'point'...</td>\n",
       "      <td>Herland</td>\n",
       "    </tr>\n",
       "  </tbody>\n",
       "</table>\n",
       "</div>"
      ],
      "text/plain": [
       "                                                text  sentiment  \\\n",
       "0  HERLAND by Charlotte Perkins Stetson Gilman CH...        NaN   \n",
       "1  Vandyck Jennings. We had known each other year...        NaN   \n",
       "2  scientific expedition. They needed a doctor, a...        NaN   \n",
       "3  the main point--that there was this strange co...        NaN   \n",
       "4  I had understood, so I showed him a red and bl...        NaN   \n",
       "\n",
       "                                            entities  \\\n",
       "0  [('Charlotte Perkins Stetson Gilman', 'PERSON'...   \n",
       "1  [('Vandyck Jennings', 'PERSON'), ('years', 'DA...   \n",
       "2  [('Jeff', 'PERSON'), ('Terry', 'PERSON'), ('Te...   \n",
       "3  [('Plenty People--All Women', 'PERSON'), ('thr...   \n",
       "4  [('Terry', 'PERSON'), ('Van', 'PERSON'), ('Ter...   \n",
       "\n",
       "                                               verbs    title  \n",
       "0  ['write', 'bring', 'prepare', 'copy', '’', 'ha...  Herland  \n",
       "1  ['know', 'have', 'do', 'please', 'use', 'make'...  Herland  \n",
       "2  ['need', 'give', 'drop', 'need', 'get', 'make'...  Herland  \n",
       "3  ['be', 'live', 'see', 'say', 'go', 'be', 'see'...  Herland  \n",
       "4  ['understand', 'show', 'carry', 'ask', 'point'...  Herland  "
      ]
     },
     "execution_count": 7,
     "metadata": {},
     "output_type": "execute_result"
    }
   ],
   "source": [
    "# basic structure check\n",
    "print(\"\\nData shape:\", df_chunks.shape)\n",
    "print(\"\\nColumns:\", df_chunks.columns.tolist())\n",
    "df_chunks.head(5)"
   ]
  },
  {
   "cell_type": "markdown",
   "metadata": {},
   "source": [
    "## 4. Further Preprocessing"
   ]
  },
  {
   "cell_type": "markdown",
   "metadata": {},
   "source": [
    "## 5. Thematic Modeling"
   ]
  },
  {
   "cell_type": "markdown",
   "metadata": {},
   "source": [
    "## 6. Emotion and Tone Classification"
   ]
  },
  {
   "cell_type": "markdown",
   "metadata": {},
   "source": [
    "## 7. Vizualizations"
   ]
  }
 ],
 "metadata": {
  "kernelspec": {
   "display_name": "feminist-nlp",
   "language": "python",
   "name": "python3"
  },
  "language_info": {
   "codemirror_mode": {
    "name": "ipython",
    "version": 3
   },
   "file_extension": ".py",
   "mimetype": "text/x-python",
   "name": "python",
   "nbconvert_exporter": "python",
   "pygments_lexer": "ipython3",
   "version": "3.10.17"
  }
 },
 "nbformat": 4,
 "nbformat_minor": 2
}
