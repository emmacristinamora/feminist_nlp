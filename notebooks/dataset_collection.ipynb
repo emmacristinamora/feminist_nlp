{
 "cells": [
  {
   "cell_type": "code",
   "execution_count": 4,
   "id": "e858509c-6a11-492f-9dee-b6f7a0283d2d",
   "metadata": {},
   "outputs": [],
   "source": [
    "import requests\n",
    "import re\n",
    "import os\n",
    "import spacy\n",
    "from pathlib import Path\n",
    "from bs4 import BeautifulSoup"
   ]
  },
  {
   "cell_type": "markdown",
   "id": "9f22de4d-30bb-448f-9169-2ef67978529b",
   "metadata": {},
   "source": [
    "## 📦 What Does `en_core_web_trf` Actually Do?\n",
    "\n",
    "## 🔍 Overview\n",
    "`en_core_web_trf` is spaCy's **transformer-based** English NLP pipeline. It's powered by **Hugging Face Transformers** (like RoBERTa) and offers **state-of-the-art accuracy** in text processing.\n",
    "\n",
    "- ✅ Smarter (better at context)\n",
    "- 💪 Heavier (uses more RAM/VRAM)\n",
    "- 🐢 Slower (especially on CPU)\n",
    "- 💯 More accurate (great for serious analysis)\n"
   ]
  },
  {
   "cell_type": "code",
   "execution_count": 7,
   "id": "626684b8-96c9-4105-97ab-8deaa37d6914",
   "metadata": {},
   "outputs": [
    {
     "name": "stderr",
     "output_type": "stream",
     "text": [
      "/Applications/anaconda3/lib/python3.12/site-packages/thinc/shims/pytorch.py:261: FutureWarning: You are using `torch.load` with `weights_only=False` (the current default value), which uses the default pickle module implicitly. It is possible to construct malicious pickle data which will execute arbitrary code during unpickling (See https://github.com/pytorch/pytorch/blob/main/SECURITY.md#untrusted-models for more details). In a future release, the default value for `weights_only` will be flipped to `True`. This limits the functions that could be executed during unpickling. Arbitrary objects will no longer be allowed to be loaded via this mode unless they are explicitly allowlisted by the user via `torch.serialization.add_safe_globals`. We recommend you start setting `weights_only=True` for any use case where you don't have full control of the loaded file. Please open an issue on GitHub for any issues related to this experimental feature.\n",
      "  model.load_state_dict(torch.load(filelike, map_location=device))\n"
     ]
    }
   ],
   "source": [
    "nlp = spacy.load(\"en_core_web_trf\")"
   ]
  },
  {
   "cell_type": "code",
   "execution_count": 8,
   "id": "6ba164df-9fbc-46e8-8421-6d1c6ddaa29f",
   "metadata": {},
   "outputs": [],
   "source": [
    "# Create a directory to store books\n",
    "Path(\"books\").mkdir(exist_ok=True)\n",
    "\n",
    "# List of Project Gutenberg book URLs (plain text UTF-8 format)\n",
    "books = {\n",
    "    # Jane Austen\n",
    "    \"Pride and Prejudice\": \"https://www.gutenberg.org/files/1342/1342-0.txt\",\n",
    "    \"Emma\": \"https://www.gutenberg.org/files/158/158-0.txt\",\n",
    "    \n",
    "    # Charlotte Brontë\n",
    "    \"Jane Eyre\": \"https://www.gutenberg.org/files/1260/1260-0.txt\",\n",
    "    \"The Professor\": \"https://www.gutenberg.org/files/9682/9682-0.txt\",\n",
    "    \n",
    "    # Emily Brontë\n",
    "    \"Wuthering Heights\": \"https://www.gutenberg.org/files/768/768-0.txt\",\n",
    "    \n",
    "    # George Eliot\n",
    "    \"Middlemarch\": \"https://www.gutenberg.org/files/145/145-0.txt\",\n",
    "    \"The Mill on the Floss\": \"https://www.gutenberg.org/files/6688/6688-0.txt\",\n",
    "\n",
    "    # Mary Wollstonecraft\n",
    "    \"A Vindication of the Rights of Woman\": \"https://www.gutenberg.org/files/3420/3420-0.txt\",\n",
    "    \"Mary, A Fiction\": \"https://www.gutenberg.org/files/3351/3351-0.txt\",\n",
    "    \n",
    "    # Margaret Fuller\n",
    "    \"Woman in the Nineteenth Century\": \"https://www.gutenberg.org/files/8904/8904-0.txt\",\n",
    "\n",
    "    # Louisa May Alcott\n",
    "    \"Little Women\": \"https://www.gutenberg.org/files/514/514-0.txt\",\n",
    "    \"An Old-Fashioned Girl\": \"https://www.gutenberg.org/files/2786/2786-0.txt\",\n",
    "\n",
    "    # Charlotte Perkins Gilman\n",
    "    \"The Yellow Wallpaper\": \"https://www.gutenberg.org/files/1952/1952-0.txt\",\n",
    "    \"Herland\": \"https://www.gutenberg.org/files/32/32-0.txt\",\n",
    "\n",
    "    # Virginia Woolf\n",
    "    \"A Room of One's Own\": \"https://www.gutenberg.org/files/5200/5200-0.txt\",\n",
    "    \"Mrs Dalloway\": \"https://www.gutenberg.org/files/612/612-0.txt\",\n",
    "\n",
    "    # Kate Chopin\n",
    "    \"The Awakening\": \"https://www.gutenberg.org/files/160/160-0.txt\",\n",
    "    \"Bayou Folk\": \"https://www.gutenberg.org/files/229/229-0.txt\",\n",
    "\n",
    "    # Elizabeth Cady Stanton\n",
    "    \"The Woman's Bible\": \"https://www.gutenberg.org/files/9880/9880-0.txt\",\n",
    "    \"Eighty Years and More\": \"https://www.gutenberg.org/files/31272/31272-0.txt\",\n",
    "\n",
    "    # Sojourner Truth\n",
    "    \"Ain't I a Woman?\": \"https://www.gutenberg.org/files/17488/17488-0.txt\",\n",
    "    \"Narrative of Sojourner Truth\": \"https://www.gutenberg.org/files/16754/16754-0.txt\",\n",
    "\n",
    "    # Fredrika Bremer\n",
    "    \"Hertha\": \"https://www.gutenberg.org/files/22349/22349-0.txt\",\n",
    "    \"The Neighbours\": \"https://www.gutenberg.org/files/6632/6632-0.txt\",\n",
    "}"
   ]
  },
  {
   "cell_type": "code",
   "execution_count": 25,
   "id": "0147589c-9c77-4952-9c78-332ffac4af66",
   "metadata": {},
   "outputs": [],
   "source": [
    "corrected_books = {\n",
    "    \"The Professor\": \"https://www.gutenberg.org/cache/epub/9692/pg9692.txt\",\n",
    "    \"A Vindication of the Rights of Woman\": \"https://www.gutenberg.org/cache/epub/3420/pg3420.txt\",\n",
    "    \"Mary, A Fiction\": \"https://www.gutenberg.org/cache/epub/3351/pg3351.txt\",\n",
    "    \"Mrs Dalloway\": \"https://www.gutenberg.org/cache/epub/612/pg612.txt\",\n",
    "    \"Bayou Folk\": \"https://www.gutenberg.org/cache/epub/229/pg229.txt\",\n",
    "    \"The Woman's Bible\": \"https://www.gutenberg.org/cache/epub/9880/pg9880.txt\",\n",
    "    \"Eighty Years and More\": \"https://www.gutenberg.org/cache/epub/31272/pg31272.txt\",\n",
    "    \"Ain't I a Woman?\": \"https://www.gutenberg.org/cache/epub/17488/pg17488.txt\",\n",
    "    \"Narrative of Sojourner Truth\": \"https://www.gutenberg.org/cache/epub/16754/pg16754.txt\",\n",
    "    \"Hertha\": \"https://www.gutenberg.org/cache/epub/22349/pg22349.txt\"\n",
    "}"
   ]
  },
  {
   "cell_type": "code",
   "execution_count": 9,
   "id": "7798ff8f-ee9b-4848-a46e-4a336ae0309c",
   "metadata": {},
   "outputs": [],
   "source": [
    "def download_book(title, url):\n",
    "    file_path = Path(f\"books/{title.replace(' ', '_')}.txt\")\n",
    "    if file_path.exists():\n",
    "        print(f\"✅ Already downloaded: {title}\")\n",
    "        return str(file_path)\n",
    "    \n",
    "    response = requests.get(url)\n",
    "    if response.status_code == 200:\n",
    "        with open(file_path, \"w\", encoding=\"utf-8\") as f:\n",
    "            f.write(response.text)\n",
    "        print(f\"⬇️ Downloaded: {title}\")\n",
    "        return str(file_path)\n",
    "    else:\n",
    "        print(f\"❌ Failed to download: {title}\")\n",
    "        return None\n"
   ]
  },
  {
   "cell_type": "code",
   "execution_count": 10,
   "id": "80a147f9-c45e-44c5-a511-1f709ddfe612",
   "metadata": {},
   "outputs": [],
   "source": [
    "# Function to clean Project Gutenberg headers/footers\n",
    "def clean_gutenberg(text):\n",
    "    start = re.search(r\"\\*\\*\\* START OF(.*?)\\*\\*\\*\", text, re.DOTALL)\n",
    "    end = re.search(r\"\\*\\*\\* END OF(.*?)\\*\\*\\*\", text, re.DOTALL)\n",
    "    if start and end:\n",
    "        return text[start.end():end.start()].strip()\n",
    "    return text.strip()"
   ]
  },
  {
   "cell_type": "code",
   "execution_count": 11,
   "id": "104d954f-2437-44d6-bb98-b8670b23177d",
   "metadata": {},
   "outputs": [],
   "source": [
    "def process_text(text, chunk_size=200):\n",
    "    import textwrap\n",
    "\n",
    "    chunks = []\n",
    "    word_chunks = textwrap.wrap(text, width=chunk_size * 6)  # estimate ~6 characters per word\n",
    "\n",
    "    for chunk_text in word_chunks:\n",
    "        chunk_text = chunk_text.strip()\n",
    "        if len(chunk_text) < 100:\n",
    "            continue\n",
    "\n",
    "        doc = nlp(chunk_text)\n",
    "\n",
    "        chunks.append({\n",
    "            \"text\": chunk_text,\n",
    "            \"sentiment\": doc._.polarity if hasattr(doc._, 'polarity') else \"N/A\",\n",
    "            \"entities\": [(ent.text, ent.label_) for ent in doc.ents],\n",
    "            \"verbs\": [token.lemma_ for token in doc if token.pos_ == \"VERB\"]\n",
    "        })\n",
    "\n",
    "    return chunks\n"
   ]
  },
  {
   "cell_type": "code",
   "execution_count": 12,
   "id": "783f1feb-5fa4-44d9-88cf-45cd50ae4603",
   "metadata": {},
   "outputs": [
    {
     "name": "stdout",
     "output_type": "stream",
     "text": [
      "✅ Already downloaded: Pride and Prejudice\n",
      "⬇️ Downloaded: Emma\n",
      "✅ Already downloaded: Jane Eyre\n",
      "❌ Failed to download: The Professor\n",
      "⬇️ Downloaded: Wuthering Heights\n",
      "⬇️ Downloaded: Middlemarch\n",
      "⬇️ Downloaded: The Mill on the Floss\n",
      "❌ Failed to download: A Vindication of the Rights of Woman\n",
      "❌ Failed to download: Mary, A Fiction\n",
      "⬇️ Downloaded: Woman in the Nineteenth Century\n",
      "⬇️ Downloaded: Little Women\n",
      "⬇️ Downloaded: An Old-Fashioned Girl\n",
      "⬇️ Downloaded: The Yellow Wallpaper\n",
      "⬇️ Downloaded: Herland\n",
      "⬇️ Downloaded: A Room of One's Own\n",
      "❌ Failed to download: Mrs Dalloway\n",
      "✅ Already downloaded: The Awakening\n",
      "❌ Failed to download: Bayou Folk\n",
      "❌ Failed to download: The Woman's Bible\n",
      "❌ Failed to download: Eighty Years and More\n",
      "❌ Failed to download: Ain't I a Woman?\n",
      "❌ Failed to download: Narrative of Sojourner Truth\n",
      "❌ Failed to download: Hertha\n",
      "⬇️ Downloaded: The Neighbours\n"
     ]
    }
   ],
   "source": [
    "all_chunks = []\n",
    "for title, url in books.items():\n",
    "    path = download_book(title, url)\n",
    "    if path:\n",
    "        with open(path, \"r\", encoding=\"utf-8\") as f:\n",
    "            raw_text = f.read()\n",
    "        cleaned = clean_gutenberg(raw_text)\n",
    "        chunks = process_text(cleaned)\n",
    "        for chunk in chunks:\n",
    "            chunk[\"title\"] = title\n",
    "        all_chunks.extend(chunks)"
   ]
  },
  {
   "cell_type": "code",
   "execution_count": 13,
   "id": "07e7dc40-c2e4-4da3-9f12-a7b45d82691a",
   "metadata": {},
   "outputs": [
    {
     "name": "stdout",
     "output_type": "stream",
     "text": [
      "Total chunks: 8063\n",
      "dict_keys(['text', 'sentiment', 'entities', 'verbs', 'title'])\n",
      "{'text': '[Illustration:                               GEORGE ALLEN                                PUBLISHER                          156 CHARING CROSS ROAD                                 LONDON                               RUSKIN HOUSE                                    ]                              [Illustration:                 _Reading Jane’s Letters._      _Chap 34._                                    ]                                     PRIDE.                                   and                                PREJUDICE                                    by                              Jane Austen,                             with a Preface by                            George Saintsbury                                   and                            Illustrations by                              Hugh Thomson                           [Illustration: 1894]                         Ruskin       156. Charing                        House.        Cross Road.                                  London                              George Allen.                  CHISWICK PRESS:--CHARLES WHITTINGHAM AND CO.                   TOOKS COURT, CHANCERY LANE, LONDON.', 'sentiment': 'N/A', 'entities': [('GEORGE ALLEN                                PUBLISHER', 'PERSON'), ('Reading Jane’s Letters', 'WORK_OF_ART'), ('34', 'CARDINAL'), ('Jane Austen', 'PERSON'), ('George Saintsbury', 'PERSON'), ('Hugh Thomson', 'PERSON'), ('1894', 'DATE'), ('Ruskin', 'PERSON'), ('156', 'CARDINAL'), ('Charing                        House', 'FAC'), ('Cross Road', 'FAC'), ('London', 'GPE'), ('George Allen', 'GPE'), ('CHISWICK PRESS:--CHARLES', 'ORG'), ('WHITTINGHAM', 'PERSON'), ('CHANCERY LANE', 'FAC'), ('LONDON', 'GPE')], 'verbs': ['read'], 'title': 'Pride and Prejudice'}\n"
     ]
    }
   ],
   "source": [
    "print(f\"Total chunks: {len(all_chunks)}\")\n",
    "print(all_chunks[0].keys())\n",
    "print(all_chunks[0])"
   ]
  },
  {
   "cell_type": "code",
   "execution_count": 27,
   "id": "3a6c94d8-c3da-4354-a493-096624080198",
   "metadata": {},
   "outputs": [
    {
     "name": "stdout",
     "output_type": "stream",
     "text": [
      "❌ Failed to download: The Professor\n",
      "❌ Still failed: The Professor\n",
      "⬇️ Downloaded: A Vindication of the Rights of Woman\n",
      "✅ Processed: A Vindication of the Rights of Woman\n",
      "⬇️ Downloaded: Mary, A Fiction\n",
      "✅ Processed: Mary, A Fiction\n",
      "⬇️ Downloaded: Mrs Dalloway\n",
      "✅ Processed: Mrs Dalloway\n",
      "⬇️ Downloaded: Bayou Folk\n",
      "✅ Processed: Bayou Folk\n",
      "⬇️ Downloaded: The Woman's Bible\n",
      "✅ Processed: The Woman's Bible\n",
      "⬇️ Downloaded: Eighty Years and More\n",
      "✅ Processed: Eighty Years and More\n",
      "⬇️ Downloaded: Ain't I a Woman?\n",
      "✅ Processed: Ain't I a Woman?\n",
      "⬇️ Downloaded: Narrative of Sojourner Truth\n",
      "✅ Processed: Narrative of Sojourner Truth\n",
      "❌ Failed to download: Hertha\n",
      "❌ Still failed: Hertha\n"
     ]
    }
   ],
   "source": [
    "# Reuse your functions: download_book(), clean_gutenberg(), process_text()\n",
    "\n",
    "missing_chunks = []\n",
    "\n",
    "for title, url in corrected_books.items():\n",
    "    path = download_book(title, url)\n",
    "    if path:\n",
    "        with open(path, \"r\", encoding=\"utf-8\") as f:\n",
    "            raw_text = f.read()\n",
    "            cleaned = clean_gutenberg(raw_text)\n",
    "            chunks = process_text(cleaned)\n",
    "            for chunk in chunks:\n",
    "                chunk[\"title\"] = title\n",
    "            missing_chunks.extend(chunks)\n",
    "        print(f\"✅ Processed: {title}\")\n",
    "    else:\n",
    "        print(f\"❌ Still failed: {title}\")\n",
    "\n",
    "# Update your existing all_chunks\n",
    "all_chunks.extend(missing_chunks)\n"
   ]
  },
  {
   "cell_type": "code",
   "execution_count": 33,
   "id": "28ed4615-9bf6-44ee-aa3d-d042c3a8addb",
   "metadata": {},
   "outputs": [
    {
     "name": "stdout",
     "output_type": "stream",
     "text": [
      "✅ CSV file saved as 'processed_book_chunks.csv'\n"
     ]
    }
   ],
   "source": [
    "import pandas as pd\n",
    "\n",
    "# STEP 1: Convert list of chunks to DataFrame\n",
    "df_chunks = pd.DataFrame(all_chunks)\n",
    "\n",
    "# STEP 2: Format lists as strings for CSV output\n",
    "df_chunks[\"entities\"] = df_chunks[\"entities\"].apply(lambda x: str(x))\n",
    "df_chunks[\"verbs\"] = df_chunks[\"verbs\"].apply(lambda x: \", \".join(x))\n",
    "\n",
    "# STEP 3: Save to CSV\n",
    "df_chunks.to_csv(\"processed_book_chunks.csv\", index=False)\n",
    "\n",
    "print(\"✅ CSV file saved as 'processed_book_chunks.csv'\")\n"
   ]
  },
  {
   "cell_type": "code",
   "execution_count": 38,
   "id": "19f21276-5fa4-4da5-bbb7-46f64d8259fa",
   "metadata": {},
   "outputs": [
    {
     "name": "stdout",
     "output_type": "stream",
     "text": [
      "10037\n"
     ]
    }
   ],
   "source": [
    "print(len(all_chunks))"
   ]
  },
  {
   "cell_type": "code",
   "execution_count": null,
   "id": "10e8a97a-414e-4c84-8027-8be9636192ad",
   "metadata": {},
   "outputs": [],
   "source": []
  }
 ],
 "metadata": {
  "kernelspec": {
   "display_name": "feminist-nlp",
   "language": "python",
   "name": "python3"
  },
  "language_info": {
   "codemirror_mode": {
    "name": "ipython",
    "version": 3
   },
   "file_extension": ".py",
   "mimetype": "text/x-python",
   "name": "python",
   "nbconvert_exporter": "python",
   "pygments_lexer": "ipython3",
   "version": "3.10.17"
  }
 },
 "nbformat": 4,
 "nbformat_minor": 5
}
